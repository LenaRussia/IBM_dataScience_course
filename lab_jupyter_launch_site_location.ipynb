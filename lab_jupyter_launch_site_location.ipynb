{
 "metadata": {
  "kernelspec": {
   "name": "python",
   "display_name": "Python (Pyodide)",
   "language": "python"
  },
  "language_info": {
   "codemirror_mode": {
    "name": "python",
    "version": 3
   },
   "file_extension": ".py",
   "mimetype": "text/x-python",
   "name": "python",
   "nbconvert_exporter": "python",
   "pygments_lexer": "ipython3",
   "version": "3.8"
  }
 },
 "nbformat_minor": 4,
 "nbformat": 4,
 "cells": [
  {
   "cell_type": "markdown",
   "source": [
    "<p style=\"text-align:center\">\n",
    "    <a href=\"https://skills.network/?utm_medium=Exinfluencer&utm_source=Exinfluencer&utm_content=000026UJ&utm_term=10006555&utm_id=NA-SkillsNetwork-Channel-SkillsNetworkCoursesIBMDS0321ENSkillsNetwork26802033-2022-01-01\" target=\"_blank\">\n",
    "    <img src=\"https://cf-courses-data.s3.us.cloud-object-storage.appdomain.cloud/assets/logos/SN_web_lightmode.png\" width=\"200\" alt=\"Skills Network Logo\"  />\n",
    "    </a>\n",
    "</p>\n"
   ],
   "metadata": {}
  },
  {
   "cell_type": "markdown",
   "source": [
    "# **Launch Sites Locations Analysis with Folium**\n"
   ],
   "metadata": {}
  },
  {
   "cell_type": "markdown",
   "source": [
    "Estimated time needed: **40** minutes\n"
   ],
   "metadata": {}
  },
  {
   "cell_type": "markdown",
   "source": [
    "The launch success rate may depend on many factors such as payload mass, orbit type, and so on. It may also depend on the location and proximities of a launch site, i.e., the initial position of rocket trajectories. Finding an optimal location for building a launch site certainly involves many factors and hopefully we could discover some of the factors by analyzing the existing launch site locations.\n"
   ],
   "metadata": {}
  },
  {
   "cell_type": "markdown",
   "source": [
    "In the previous exploratory data analysis labs, you have visualized the SpaceX launch dataset using `matplotlib` and `seaborn` and discovered some preliminary correlations between the launch site and success rates. In this lab, you will be performing more interactive visual analytics using `Folium`.\n"
   ],
   "metadata": {}
  },
  {
   "cell_type": "markdown",
   "source": [
    "## Objectives\n"
   ],
   "metadata": {}
  },
  {
   "cell_type": "markdown",
   "source": [
    "This lab contains the following tasks:\n",
    "\n",
    "*   **TASK 1:** Mark all launch sites on a map\n",
    "*   **TASK 2:** Mark the success/failed launches for each site on the map\n",
    "*   **TASK 3:** Calculate the distances between a launch site to its proximities\n",
    "\n",
    "After completed the above tasks, you should be able to find some geographical patterns about launch sites.\n"
   ],
   "metadata": {}
  },
  {
   "cell_type": "markdown",
   "source": [
    "Let's first import required Python packages for this lab:\n"
   ],
   "metadata": {}
  },
  {
   "cell_type": "code",
   "source": [
    "import piplite\n",
    "await piplite.install(['folium'])\n",
    "await piplite.install(['pandas'])"
   ],
   "metadata": {
    "trusted": true
   },
   "outputs": [],
   "execution_count": 5
  },
  {
   "cell_type": "code",
   "source": [
    "import folium\n",
    "import pandas as pd"
   ],
   "metadata": {
    "trusted": true
   },
   "outputs": [],
   "execution_count": 6
  },
  {
   "cell_type": "code",
   "source": [
    "# Import folium MarkerCluster plugin\n",
    "from folium.plugins import MarkerCluster\n",
    "# Import folium MousePosition plugin\n",
    "from folium.plugins import MousePosition\n",
    "# Import folium DivIcon plugin\n",
    "from folium.features import DivIcon"
   ],
   "metadata": {
    "trusted": true
   },
   "outputs": [],
   "execution_count": 7
  },
  {
   "cell_type": "markdown",
   "source": [
    "If you need to refresh your memory about folium, you may download and refer to this previous folium lab:\n"
   ],
   "metadata": {}
  },
  {
   "cell_type": "markdown",
   "source": [
    "[Generating Maps with Python](https://cf-courses-data.s3.us.cloud-object-storage.appdomain.cloud/IBM-DS0321EN-SkillsNetwork/labs/module\\_3/DV0101EN-3-5-1-Generating-Maps-in-Python-py-v2.0.ipynb)\n"
   ],
   "metadata": {}
  },
  {
   "cell_type": "markdown",
   "source": [
    "## Task 1: Mark all launch sites on a map\n"
   ],
   "metadata": {}
  },
  {
   "cell_type": "markdown",
   "source": [
    "First, let's try to add each site's location on a map using site's latitude and longitude coordinates\n"
   ],
   "metadata": {}
  },
  {
   "cell_type": "markdown",
   "source": [
    "The following dataset with the name `spacex_launch_geo.csv` is an augmented dataset with latitude and longitude added for each site.\n"
   ],
   "metadata": {}
  },
  {
   "cell_type": "code",
   "source": [
    "# Download and read the `spacex_launch_geo.csv`\n",
    "from js import fetch\n",
    "import io\n",
    "\n",
    "URL = 'https://cf-courses-data.s3.us.cloud-object-storage.appdomain.cloud/IBM-DS0321EN-SkillsNetwork/datasets/spacex_launch_geo.csv'\n",
    "resp = await fetch(URL)\n",
    "spacex_csv_file = io.BytesIO((await resp.arrayBuffer()).to_py())\n",
    "spacex_df=pd.read_csv(spacex_csv_file)"
   ],
   "metadata": {
    "trusted": true
   },
   "outputs": [],
   "execution_count": 9
  },
  {
   "cell_type": "markdown",
   "source": [
    "Now, you can take a look at what are the coordinates for each site.\n"
   ],
   "metadata": {}
  },
  {
   "cell_type": "code",
   "source": [
    "# Select relevant sub-columns: `Launch Site`, `Lat(Latitude)`, `Long(Longitude)`, `class`\n",
    "spacex_df = spacex_df[['Launch Site', 'Lat', 'Long', 'class']]\n",
    "launch_sites_df = spacex_df.groupby(['Launch Site'], as_index=False).first()\n",
    "launch_sites_df = launch_sites_df[['Launch Site', 'Lat', 'Long']]\n",
    "launch_sites_df"
   ],
   "metadata": {
    "trusted": true
   },
   "outputs": [
    {
     "execution_count": 10,
     "output_type": "execute_result",
     "data": {
      "text/plain": "    Launch Site        Lat        Long\n0   CCAFS LC-40  28.562302  -80.577356\n1  CCAFS SLC-40  28.563197  -80.576820\n2    KSC LC-39A  28.573255  -80.646895\n3   VAFB SLC-4E  34.632834 -120.610745",
      "text/html": "<div>\n<style scoped>\n    .dataframe tbody tr th:only-of-type {\n        vertical-align: middle;\n    }\n\n    .dataframe tbody tr th {\n        vertical-align: top;\n    }\n\n    .dataframe thead th {\n        text-align: right;\n    }\n</style>\n<table border=\"1\" class=\"dataframe\">\n  <thead>\n    <tr style=\"text-align: right;\">\n      <th></th>\n      <th>Launch Site</th>\n      <th>Lat</th>\n      <th>Long</th>\n    </tr>\n  </thead>\n  <tbody>\n    <tr>\n      <th>0</th>\n      <td>CCAFS LC-40</td>\n      <td>28.562302</td>\n      <td>-80.577356</td>\n    </tr>\n    <tr>\n      <th>1</th>\n      <td>CCAFS SLC-40</td>\n      <td>28.563197</td>\n      <td>-80.576820</td>\n    </tr>\n    <tr>\n      <th>2</th>\n      <td>KSC LC-39A</td>\n      <td>28.573255</td>\n      <td>-80.646895</td>\n    </tr>\n    <tr>\n      <th>3</th>\n      <td>VAFB SLC-4E</td>\n      <td>34.632834</td>\n      <td>-120.610745</td>\n    </tr>\n  </tbody>\n</table>\n</div>"
     },
     "metadata": {}
    }
   ],
   "execution_count": 10
  },
  {
   "cell_type": "markdown",
   "source": [
    "Above coordinates are just plain numbers that can not give you any intuitive insights about where are those launch sites. If you are very good at geography, you can interpret those numbers directly in your mind. If not, that's fine too. Let's visualize those locations by pinning them on a map.\n"
   ],
   "metadata": {}
  },
  {
   "cell_type": "markdown",
   "source": [
    "We first need to create a folium `Map` object, with an initial center location to be NASA Johnson Space Center at Houston, Texas.\n"
   ],
   "metadata": {}
  },
  {
   "cell_type": "code",
   "source": [
    "# Start location is NASA Johnson Space Center\n",
    "nasa_coordinate = [29.559684888503615, -95.0830971930759]\n",
    "site_map = folium.Map(location=nasa_coordinate, zoom_start=10)"
   ],
   "metadata": {
    "trusted": true
   },
   "outputs": [],
   "execution_count": 11
  },
  {
   "cell_type": "markdown",
   "source": [
    "We could use `folium.Circle` to add a highlighted circle area with a text label on a specific coordinate. For example,\n"
   ],
   "metadata": {}
  },
  {
   "cell_type": "code",
   "source": [
    "# Create a blue circle at NASA Johnson Space Center's coordinate with a popup label showing its name\n",
    "circle = folium.Circle(nasa_coordinate, radius=1000, color='#d35400', fill=True).add_child(folium.Popup('NASA Johnson Space Center'))\n",
    "# Create a blue circle at NASA Johnson Space Center's coordinate with a icon showing its name\n",
    "marker = folium.map.Marker(\n",
    "    nasa_coordinate,\n",
    "    # Create an icon as a text label\n",
    "    icon=DivIcon(\n",
    "        icon_size=(20,20),\n",
    "        icon_anchor=(0,0),\n",
    "        html='<div style=\"font-size: 12; color:#d35400;\"><b>%s</b></div>' % 'NASA JSC',\n",
    "        )\n",
    "    )\n",
    "site_map.add_child(circle)\n",
    "site_map.add_child(marker)"
   ],
   "metadata": {
    "trusted": true
   },
   "outputs": [
    {
     "execution_count": 12,
     "output_type": "execute_result",
     "data": {
      "text/plain": "<folium.folium.Map at 0x57d39b0>",
      "text/html": "<div style=\"width:100%;\"><div style=\"position:relative;width:100%;height:0;padding-bottom:60%;\"><span style=\"color:#565656\">Make this Notebook Trusted to load map: File -> Trust Notebook</span><iframe srcdoc=\"&lt;!DOCTYPE html&gt;\n&lt;html&gt;\n&lt;head&gt;\n    \n    &lt;meta http-equiv=&quot;content-type&quot; content=&quot;text/html; charset=UTF-8&quot; /&gt;\n    \n        &lt;script&gt;\n            L_NO_TOUCH = false;\n            L_DISABLE_3D = false;\n        &lt;/script&gt;\n    \n    &lt;style&gt;html, body {width: 100%;height: 100%;margin: 0;padding: 0;}&lt;/style&gt;\n    &lt;style&gt;#map {position:absolute;top:0;bottom:0;right:0;left:0;}&lt;/style&gt;\n    &lt;script src=&quot;https://cdn.jsdelivr.net/npm/leaflet@1.9.3/dist/leaflet.js&quot;&gt;&lt;/script&gt;\n    &lt;script src=&quot;https://code.jquery.com/jquery-3.7.1.min.js&quot;&gt;&lt;/script&gt;\n    &lt;script src=&quot;https://cdn.jsdelivr.net/npm/bootstrap@5.2.2/dist/js/bootstrap.bundle.min.js&quot;&gt;&lt;/script&gt;\n    &lt;script src=&quot;https://cdnjs.cloudflare.com/ajax/libs/Leaflet.awesome-markers/2.0.2/leaflet.awesome-markers.js&quot;&gt;&lt;/script&gt;\n    &lt;link rel=&quot;stylesheet&quot; href=&quot;https://cdn.jsdelivr.net/npm/leaflet@1.9.3/dist/leaflet.css&quot;/&gt;\n    &lt;link rel=&quot;stylesheet&quot; href=&quot;https://cdn.jsdelivr.net/npm/bootstrap@5.2.2/dist/css/bootstrap.min.css&quot;/&gt;\n    &lt;link rel=&quot;stylesheet&quot; href=&quot;https://netdna.bootstrapcdn.com/bootstrap/3.0.0/css/bootstrap.min.css&quot;/&gt;\n    &lt;link rel=&quot;stylesheet&quot; href=&quot;https://cdn.jsdelivr.net/npm/@fortawesome/fontawesome-free@6.2.0/css/all.min.css&quot;/&gt;\n    &lt;link rel=&quot;stylesheet&quot; href=&quot;https://cdnjs.cloudflare.com/ajax/libs/Leaflet.awesome-markers/2.0.2/leaflet.awesome-markers.css&quot;/&gt;\n    &lt;link rel=&quot;stylesheet&quot; href=&quot;https://cdn.jsdelivr.net/gh/python-visualization/folium/folium/templates/leaflet.awesome.rotate.min.css&quot;/&gt;\n    \n            &lt;meta name=&quot;viewport&quot; content=&quot;width=device-width,\n                initial-scale=1.0, maximum-scale=1.0, user-scalable=no&quot; /&gt;\n            &lt;style&gt;\n                #map_95b005dbf66c0db88506d61cf5d237c7 {\n                    position: relative;\n                    width: 100.0%;\n                    height: 100.0%;\n                    left: 0.0%;\n                    top: 0.0%;\n                }\n                .leaflet-container { font-size: 1rem; }\n            &lt;/style&gt;\n        \n&lt;/head&gt;\n&lt;body&gt;\n    \n    \n            &lt;div class=&quot;folium-map&quot; id=&quot;map_95b005dbf66c0db88506d61cf5d237c7&quot; &gt;&lt;/div&gt;\n        \n&lt;/body&gt;\n&lt;script&gt;\n    \n    \n            var map_95b005dbf66c0db88506d61cf5d237c7 = L.map(\n                &quot;map_95b005dbf66c0db88506d61cf5d237c7&quot;,\n                {\n                    center: [29.559684888503615, -95.0830971930759],\n                    crs: L.CRS.EPSG3857,\n                    zoom: 10,\n                    zoomControl: true,\n                    preferCanvas: false,\n                }\n            );\n\n            \n\n        \n    \n            var tile_layer_3a211cf059c436a2c665c2c44f6bcca1 = L.tileLayer(\n                &quot;https://tile.openstreetmap.org/{z}/{x}/{y}.png&quot;,\n                {&quot;attribution&quot;: &quot;\\u0026copy; \\u003ca href=\\&quot;https://www.openstreetmap.org/copyright\\&quot;\\u003eOpenStreetMap\\u003c/a\\u003e contributors&quot;, &quot;detectRetina&quot;: false, &quot;maxNativeZoom&quot;: 19, &quot;maxZoom&quot;: 19, &quot;minZoom&quot;: 0, &quot;noWrap&quot;: false, &quot;opacity&quot;: 1, &quot;subdomains&quot;: &quot;abc&quot;, &quot;tms&quot;: false}\n            );\n        \n    \n            tile_layer_3a211cf059c436a2c665c2c44f6bcca1.addTo(map_95b005dbf66c0db88506d61cf5d237c7);\n        \n    \n            var circle_cca0ce9c94367c9c90b2f15a6f23eb65 = L.circle(\n                [29.559684888503615, -95.0830971930759],\n                {&quot;bubblingMouseEvents&quot;: true, &quot;color&quot;: &quot;#d35400&quot;, &quot;dashArray&quot;: null, &quot;dashOffset&quot;: null, &quot;fill&quot;: true, &quot;fillColor&quot;: &quot;#d35400&quot;, &quot;fillOpacity&quot;: 0.2, &quot;fillRule&quot;: &quot;evenodd&quot;, &quot;lineCap&quot;: &quot;round&quot;, &quot;lineJoin&quot;: &quot;round&quot;, &quot;opacity&quot;: 1.0, &quot;radius&quot;: 1000, &quot;stroke&quot;: true, &quot;weight&quot;: 3}\n            ).addTo(map_95b005dbf66c0db88506d61cf5d237c7);\n        \n    \n        var popup_ee1cb6e8bbc3505b709e46a1875df461 = L.popup({&quot;maxWidth&quot;: &quot;100%&quot;});\n\n        \n            \n                var html_9063dd330162aa66c49867882525f67b = $(`&lt;div id=&quot;html_9063dd330162aa66c49867882525f67b&quot; style=&quot;width: 100.0%; height: 100.0%;&quot;&gt;NASA Johnson Space Center&lt;/div&gt;`)[0];\n                popup_ee1cb6e8bbc3505b709e46a1875df461.setContent(html_9063dd330162aa66c49867882525f67b);\n            \n        \n\n        circle_cca0ce9c94367c9c90b2f15a6f23eb65.bindPopup(popup_ee1cb6e8bbc3505b709e46a1875df461)\n        ;\n\n        \n    \n    \n            var marker_8d92d451300eff8eb9f4db5db96a2139 = L.marker(\n                [29.559684888503615, -95.0830971930759],\n                {}\n            ).addTo(map_95b005dbf66c0db88506d61cf5d237c7);\n        \n    \n            var div_icon_0ad82ccfa7de6e256911aea7fc62151b = L.divIcon({&quot;className&quot;: &quot;empty&quot;, &quot;html&quot;: &quot;\\u003cdiv style=\\&quot;font-size: 12; color:#d35400;\\&quot;\\u003e\\u003cb\\u003eNASA JSC\\u003c/b\\u003e\\u003c/div\\u003e&quot;, &quot;iconAnchor&quot;: [0, 0], &quot;iconSize&quot;: [20, 20]});\n            marker_8d92d451300eff8eb9f4db5db96a2139.setIcon(div_icon_0ad82ccfa7de6e256911aea7fc62151b);\n        \n&lt;/script&gt;\n&lt;/html&gt;\" style=\"position:absolute;width:100%;height:100%;left:0;top:0;border:none !important;\" allowfullscreen webkitallowfullscreen mozallowfullscreen></iframe></div></div>"
     },
     "metadata": {}
    }
   ],
   "execution_count": 12
  },
  {
   "cell_type": "markdown",
   "source": [
    "and you should find a small yellow circle near the city of Houston and you can zoom-in to see a larger circle.\n"
   ],
   "metadata": {}
  },
  {
   "cell_type": "markdown",
   "source": [
    "Now, let's add a circle for each launch site in data frame `launch_sites`\n"
   ],
   "metadata": {}
  },
  {
   "cell_type": "markdown",
   "source": [
    "*TODO:*  Create and add `folium.Circle` and `folium.Marker` for each launch site on the site map\n"
   ],
   "metadata": {}
  },
  {
   "cell_type": "markdown",
   "source": [
    "An example of folium.Circle:\n"
   ],
   "metadata": {}
  },
  {
   "cell_type": "markdown",
   "source": [
    "`folium.Circle(coordinate, radius=1000, color='#000000', fill=True).add_child(folium.Popup(...))`\n"
   ],
   "metadata": {}
  },
  {
   "cell_type": "markdown",
   "source": [
    "An example of folium.Marker:\n"
   ],
   "metadata": {}
  },
  {
   "cell_type": "markdown",
   "source": [
    "`folium.map.Marker(coordinate, icon=DivIcon(icon_size=(20,20),icon_anchor=(0,0), html='<div style=\"font-size: 12; color:#d35400;\"><b>%s</b></div>' % 'label', ))`\n"
   ],
   "metadata": {}
  },
  {
   "cell_type": "code",
   "source": [
    "site_map.add_child(marker)"
   ],
   "metadata": {
    "trusted": true
   },
   "outputs": [
    {
     "execution_count": 31,
     "output_type": "execute_result",
     "data": {
      "text/plain": "<folium.folium.Map at 0x5b8c528>",
      "text/html": "<div style=\"width:100%;\"><div style=\"position:relative;width:100%;height:0;padding-bottom:60%;\"><span style=\"color:#565656\">Make this Notebook Trusted to load map: File -> Trust Notebook</span><iframe srcdoc=\"&lt;!DOCTYPE html&gt;\n&lt;html&gt;\n&lt;head&gt;\n    \n    &lt;meta http-equiv=&quot;content-type&quot; content=&quot;text/html; charset=UTF-8&quot; /&gt;\n    \n        &lt;script&gt;\n            L_NO_TOUCH = false;\n            L_DISABLE_3D = false;\n        &lt;/script&gt;\n    \n    &lt;style&gt;html, body {width: 100%;height: 100%;margin: 0;padding: 0;}&lt;/style&gt;\n    &lt;style&gt;#map {position:absolute;top:0;bottom:0;right:0;left:0;}&lt;/style&gt;\n    &lt;script src=&quot;https://cdn.jsdelivr.net/npm/leaflet@1.9.3/dist/leaflet.js&quot;&gt;&lt;/script&gt;\n    &lt;script src=&quot;https://code.jquery.com/jquery-3.7.1.min.js&quot;&gt;&lt;/script&gt;\n    &lt;script src=&quot;https://cdn.jsdelivr.net/npm/bootstrap@5.2.2/dist/js/bootstrap.bundle.min.js&quot;&gt;&lt;/script&gt;\n    &lt;script src=&quot;https://cdnjs.cloudflare.com/ajax/libs/Leaflet.awesome-markers/2.0.2/leaflet.awesome-markers.js&quot;&gt;&lt;/script&gt;\n    &lt;link rel=&quot;stylesheet&quot; href=&quot;https://cdn.jsdelivr.net/npm/leaflet@1.9.3/dist/leaflet.css&quot;/&gt;\n    &lt;link rel=&quot;stylesheet&quot; href=&quot;https://cdn.jsdelivr.net/npm/bootstrap@5.2.2/dist/css/bootstrap.min.css&quot;/&gt;\n    &lt;link rel=&quot;stylesheet&quot; href=&quot;https://netdna.bootstrapcdn.com/bootstrap/3.0.0/css/bootstrap.min.css&quot;/&gt;\n    &lt;link rel=&quot;stylesheet&quot; href=&quot;https://cdn.jsdelivr.net/npm/@fortawesome/fontawesome-free@6.2.0/css/all.min.css&quot;/&gt;\n    &lt;link rel=&quot;stylesheet&quot; href=&quot;https://cdnjs.cloudflare.com/ajax/libs/Leaflet.awesome-markers/2.0.2/leaflet.awesome-markers.css&quot;/&gt;\n    &lt;link rel=&quot;stylesheet&quot; href=&quot;https://cdn.jsdelivr.net/gh/python-visualization/folium/folium/templates/leaflet.awesome.rotate.min.css&quot;/&gt;\n    \n            &lt;meta name=&quot;viewport&quot; content=&quot;width=device-width,\n                initial-scale=1.0, maximum-scale=1.0, user-scalable=no&quot; /&gt;\n            &lt;style&gt;\n                #map_3eeacea75806a21cc2d0a9250f46c8ff {\n                    position: relative;\n                    width: 100.0%;\n                    height: 100.0%;\n                    left: 0.0%;\n                    top: 0.0%;\n                }\n                .leaflet-container { font-size: 1rem; }\n            &lt;/style&gt;\n        \n&lt;/head&gt;\n&lt;body&gt;\n    \n    \n            &lt;div class=&quot;folium-map&quot; id=&quot;map_3eeacea75806a21cc2d0a9250f46c8ff&quot; &gt;&lt;/div&gt;\n        \n&lt;/body&gt;\n&lt;script&gt;\n    \n    \n            var map_3eeacea75806a21cc2d0a9250f46c8ff = L.map(\n                &quot;map_3eeacea75806a21cc2d0a9250f46c8ff&quot;,\n                {\n                    center: [29.559684888503615, -95.0830971930759],\n                    crs: L.CRS.EPSG3857,\n                    zoom: 5,\n                    zoomControl: true,\n                    preferCanvas: false,\n                }\n            );\n\n            \n\n        \n    \n            var tile_layer_2d9213896cedf01616b1ffc71a3fa557 = L.tileLayer(\n                &quot;https://tile.openstreetmap.org/{z}/{x}/{y}.png&quot;,\n                {&quot;attribution&quot;: &quot;\\u0026copy; \\u003ca href=\\&quot;https://www.openstreetmap.org/copyright\\&quot;\\u003eOpenStreetMap\\u003c/a\\u003e contributors&quot;, &quot;detectRetina&quot;: false, &quot;maxNativeZoom&quot;: 19, &quot;maxZoom&quot;: 19, &quot;minZoom&quot;: 0, &quot;noWrap&quot;: false, &quot;opacity&quot;: 1, &quot;subdomains&quot;: &quot;abc&quot;, &quot;tms&quot;: false}\n            );\n        \n    \n            tile_layer_2d9213896cedf01616b1ffc71a3fa557.addTo(map_3eeacea75806a21cc2d0a9250f46c8ff);\n        \n    \n            var circle_7c815a45d14f2b29267634a31f08f012 = L.circle(\n                [28.56230197, -80.57735648],\n                {&quot;bubblingMouseEvents&quot;: true, &quot;color&quot;: &quot;#d35400&quot;, &quot;dashArray&quot;: null, &quot;dashOffset&quot;: null, &quot;fill&quot;: true, &quot;fillColor&quot;: &quot;#d35400&quot;, &quot;fillOpacity&quot;: 0.2, &quot;fillRule&quot;: &quot;evenodd&quot;, &quot;lineCap&quot;: &quot;round&quot;, &quot;lineJoin&quot;: &quot;round&quot;, &quot;opacity&quot;: 1.0, &quot;radius&quot;: 100, &quot;stroke&quot;: true, &quot;weight&quot;: 3}\n            ).addTo(map_3eeacea75806a21cc2d0a9250f46c8ff);\n        \n    \n        var popup_4af8c27ea5a9cc3f7206be1d147097e1 = L.popup({&quot;maxWidth&quot;: &quot;100%&quot;});\n\n        \n            \n                var html_3c52e7f42296f7328d5a6cdf04abb343 = $(`&lt;div id=&quot;html_3c52e7f42296f7328d5a6cdf04abb343&quot; style=&quot;width: 100.0%; height: 100.0%;&quot;&gt;CCAFS LC-40&lt;/div&gt;`)[0];\n                popup_4af8c27ea5a9cc3f7206be1d147097e1.setContent(html_3c52e7f42296f7328d5a6cdf04abb343);\n            \n        \n\n        circle_7c815a45d14f2b29267634a31f08f012.bindPopup(popup_4af8c27ea5a9cc3f7206be1d147097e1)\n        ;\n\n        \n    \n    \n            var marker_a495b11a1762b4443e0fc366cba2216e = L.marker(\n                [28.56230197, -80.57735648],\n                {}\n            ).addTo(map_3eeacea75806a21cc2d0a9250f46c8ff);\n        \n    \n            var div_icon_3f3c1177300b12be486e8b1492eae6da = L.divIcon({&quot;className&quot;: &quot;empty&quot;, &quot;html&quot;: &quot;\\u003cdiv style=\\&quot;font-size: 10; color:#d35400;\\&quot;\\u003e\\u003cb\\u003eCCAFS LC-40\\u003c/b\\u003e\\u003c/div\\u003e&quot;, &quot;iconAnchor&quot;: [0, 0], &quot;iconSize&quot;: [10, 10]});\n            marker_a495b11a1762b4443e0fc366cba2216e.setIcon(div_icon_3f3c1177300b12be486e8b1492eae6da);\n        \n    \n            var circle_57486083c47e8ffebf3a90ff1c2571d1 = L.circle(\n                [28.56319718, -80.57682003],\n                {&quot;bubblingMouseEvents&quot;: true, &quot;color&quot;: &quot;#d35400&quot;, &quot;dashArray&quot;: null, &quot;dashOffset&quot;: null, &quot;fill&quot;: true, &quot;fillColor&quot;: &quot;#d35400&quot;, &quot;fillOpacity&quot;: 0.2, &quot;fillRule&quot;: &quot;evenodd&quot;, &quot;lineCap&quot;: &quot;round&quot;, &quot;lineJoin&quot;: &quot;round&quot;, &quot;opacity&quot;: 1.0, &quot;radius&quot;: 100, &quot;stroke&quot;: true, &quot;weight&quot;: 3}\n            ).addTo(map_3eeacea75806a21cc2d0a9250f46c8ff);\n        \n    \n        var popup_04f4710a9e2b3101be34cf39757bf370 = L.popup({&quot;maxWidth&quot;: &quot;100%&quot;});\n\n        \n            \n                var html_a28d9ebd8ab306cdca280cf669c1eaea = $(`&lt;div id=&quot;html_a28d9ebd8ab306cdca280cf669c1eaea&quot; style=&quot;width: 100.0%; height: 100.0%;&quot;&gt;CCAFS SLC-40&lt;/div&gt;`)[0];\n                popup_04f4710a9e2b3101be34cf39757bf370.setContent(html_a28d9ebd8ab306cdca280cf669c1eaea);\n            \n        \n\n        circle_57486083c47e8ffebf3a90ff1c2571d1.bindPopup(popup_04f4710a9e2b3101be34cf39757bf370)\n        ;\n\n        \n    \n    \n            var marker_a724a715feb8cefe14febfe011785d02 = L.marker(\n                [28.56319718, -80.57682003],\n                {}\n            ).addTo(map_3eeacea75806a21cc2d0a9250f46c8ff);\n        \n    \n            var div_icon_8956240ca2011ce16e8a04da3d928ec7 = L.divIcon({&quot;className&quot;: &quot;empty&quot;, &quot;html&quot;: &quot;\\u003cdiv style=\\&quot;font-size: 10; color:#d35400;\\&quot;\\u003e\\u003cb\\u003eCCAFS SLC-40\\u003c/b\\u003e\\u003c/div\\u003e&quot;, &quot;iconAnchor&quot;: [0, 0], &quot;iconSize&quot;: [10, 10]});\n            marker_a724a715feb8cefe14febfe011785d02.setIcon(div_icon_8956240ca2011ce16e8a04da3d928ec7);\n        \n    \n            var circle_f6a1a3b09fd611e15954f48190e18ff1 = L.circle(\n                [28.57325457, -80.64689529],\n                {&quot;bubblingMouseEvents&quot;: true, &quot;color&quot;: &quot;#d35400&quot;, &quot;dashArray&quot;: null, &quot;dashOffset&quot;: null, &quot;fill&quot;: true, &quot;fillColor&quot;: &quot;#d35400&quot;, &quot;fillOpacity&quot;: 0.2, &quot;fillRule&quot;: &quot;evenodd&quot;, &quot;lineCap&quot;: &quot;round&quot;, &quot;lineJoin&quot;: &quot;round&quot;, &quot;opacity&quot;: 1.0, &quot;radius&quot;: 100, &quot;stroke&quot;: true, &quot;weight&quot;: 3}\n            ).addTo(map_3eeacea75806a21cc2d0a9250f46c8ff);\n        \n    \n        var popup_b9f9f62c15fc2b0ff209259a712ab5db = L.popup({&quot;maxWidth&quot;: &quot;100%&quot;});\n\n        \n            \n                var html_dbb806040dc7b419cb25ceed98f84f43 = $(`&lt;div id=&quot;html_dbb806040dc7b419cb25ceed98f84f43&quot; style=&quot;width: 100.0%; height: 100.0%;&quot;&gt;KSC LC-39A&lt;/div&gt;`)[0];\n                popup_b9f9f62c15fc2b0ff209259a712ab5db.setContent(html_dbb806040dc7b419cb25ceed98f84f43);\n            \n        \n\n        circle_f6a1a3b09fd611e15954f48190e18ff1.bindPopup(popup_b9f9f62c15fc2b0ff209259a712ab5db)\n        ;\n\n        \n    \n    \n            var marker_862144b451de293221c516f4836b8c2c = L.marker(\n                [28.57325457, -80.64689529],\n                {}\n            ).addTo(map_3eeacea75806a21cc2d0a9250f46c8ff);\n        \n    \n            var div_icon_c5dc6415625bdd625302a5a6a9a4ec83 = L.divIcon({&quot;className&quot;: &quot;empty&quot;, &quot;html&quot;: &quot;\\u003cdiv style=\\&quot;font-size: 10; color:#d35400;\\&quot;\\u003e\\u003cb\\u003eKSC LC-39A\\u003c/b\\u003e\\u003c/div\\u003e&quot;, &quot;iconAnchor&quot;: [0, 0], &quot;iconSize&quot;: [10, 10]});\n            marker_862144b451de293221c516f4836b8c2c.setIcon(div_icon_c5dc6415625bdd625302a5a6a9a4ec83);\n        \n    \n            var circle_59a1733e2cb579c9c52f824d769d950b = L.circle(\n                [34.63283416, -120.6107455],\n                {&quot;bubblingMouseEvents&quot;: true, &quot;color&quot;: &quot;#d35400&quot;, &quot;dashArray&quot;: null, &quot;dashOffset&quot;: null, &quot;fill&quot;: true, &quot;fillColor&quot;: &quot;#d35400&quot;, &quot;fillOpacity&quot;: 0.2, &quot;fillRule&quot;: &quot;evenodd&quot;, &quot;lineCap&quot;: &quot;round&quot;, &quot;lineJoin&quot;: &quot;round&quot;, &quot;opacity&quot;: 1.0, &quot;radius&quot;: 100, &quot;stroke&quot;: true, &quot;weight&quot;: 3}\n            ).addTo(map_3eeacea75806a21cc2d0a9250f46c8ff);\n        \n    \n        var popup_d22bfe5403b919c6dd449ce85dc61d14 = L.popup({&quot;maxWidth&quot;: &quot;100%&quot;});\n\n        \n            \n                var html_b363ff2ff0a280a64a14bbb1d09a3203 = $(`&lt;div id=&quot;html_b363ff2ff0a280a64a14bbb1d09a3203&quot; style=&quot;width: 100.0%; height: 100.0%;&quot;&gt;VAFB SLC-4E&lt;/div&gt;`)[0];\n                popup_d22bfe5403b919c6dd449ce85dc61d14.setContent(html_b363ff2ff0a280a64a14bbb1d09a3203);\n            \n        \n\n        circle_59a1733e2cb579c9c52f824d769d950b.bindPopup(popup_d22bfe5403b919c6dd449ce85dc61d14)\n        ;\n\n        \n    \n    \n            var marker_0504419a0b5493a0147e2a4c8a271ead = L.marker(\n                [34.63283416, -120.6107455],\n                {}\n            ).addTo(map_3eeacea75806a21cc2d0a9250f46c8ff);\n        \n    \n            var div_icon_39cc3561681139527f61f30423359875 = L.divIcon({&quot;className&quot;: &quot;empty&quot;, &quot;html&quot;: &quot;\\u003cdiv style=\\&quot;font-size: 10; color:#d35400;\\&quot;\\u003e\\u003cb\\u003eVAFB SLC-4E\\u003c/b\\u003e\\u003c/div\\u003e&quot;, &quot;iconAnchor&quot;: [0, 0], &quot;iconSize&quot;: [10, 10]});\n            marker_0504419a0b5493a0147e2a4c8a271ead.setIcon(div_icon_39cc3561681139527f61f30423359875);\n        \n&lt;/script&gt;\n&lt;/html&gt;\" style=\"position:absolute;width:100%;height:100%;left:0;top:0;border:none !important;\" allowfullscreen webkitallowfullscreen mozallowfullscreen></iframe></div></div>"
     },
     "metadata": {}
    }
   ],
   "execution_count": 31
  },
  {
   "cell_type": "code",
   "execution_count": null,
   "outputs": [],
   "source": [
    "# Initial the map\n",
    "site_map = folium.Map(location=nasa_coordinate, zoom_start=5)\n",
    "# For each launch site, add a Circle object based on its coordinate (Lat, Long) values. In addition, add Launch site name as a popup label\n",
    "\n",
    "for lat, long, site_name in zip(launch_sites_df['Lat'], launch_sites_df['Long'], launch_sites_df['Launch Site']):\n",
    "    circle = folium.Circle(\n",
    "                    [lat, long],\n",
    "                    radius=100,\n",
    "                    color='#d35400',\n",
    "                    fill=True).add_child(folium.Popup(site_name))\n",
    "\n",
    "    marker = folium.map.Marker(\n",
    "                    [lat, long],\n",
    "                    icon=DivIcon(icon_size=(10,10),\n",
    "                                 icon_anchor=(0,0),\n",
    "                                 html='<div style=\"font-size: 10; color:#d35400;\"><b>%s</b></div>' % site_name, ))\n",
    "    site_map.add_child(circle)\n",
    "    site_map.add_child(marker)\n",
    "\n",
    "site_map"
   ],
   "metadata": {
    "collapsed": false
   }
  },
  {
   "cell_type": "markdown",
   "source": [
    "The generated map with marked launch sites should look similar to the following:\n"
   ],
   "metadata": {}
  },
  {
   "cell_type": "markdown",
   "source": [
    "<center>\n",
    "    <img src=\"https://cf-courses-data.s3.us.cloud-object-storage.appdomain.cloud/IBM-DS0321EN-SkillsNetwork/labs/module_3/images/launch_site_markers.png\">\n",
    "</center>\n"
   ],
   "metadata": {}
  },
  {
   "cell_type": "markdown",
   "source": [
    "Now, you can explore the map by zoom-in/out the marked areas\n",
    ", and try to answer the following questions:\n",
    "\n",
    "*   Are all launch sites in proximity to the Equator line?\n",
    "*   Are all launch sites in very close proximity to the coast?\n",
    "\n",
    "Also please try to explain your findings.\n"
   ],
   "metadata": {}
  },
  {
   "cell_type": "markdown",
   "source": [
    "# Task 2: Mark the success/failed launches for each site on the map\n"
   ],
   "metadata": {}
  },
  {
   "cell_type": "markdown",
   "source": [
    "Next, let's try to enhance the map by adding the launch outcomes for each site, and see which sites have high success rates.\n",
    "Recall that data frame spacex_df has detailed launch records, and the `class` column indicates if this launch was successful or not\n"
   ],
   "metadata": {
    "collapsed": false
   }
  },
  {
   "cell_type": "code",
   "execution_count": null,
   "outputs": [],
   "source": [
    "spacex_df.tail(10)"
   ],
   "metadata": {
    "collapsed": false
   }
  },
  {
   "cell_type": "markdown",
   "source": [
    "Next, let's create markers for all launch records.\n",
    "If a launch was successful `(class=1)`, then we use a green marker and if a launch was failed, we use a red marker `(class=0)`\n"
   ],
   "metadata": {}
  },
  {
   "cell_type": "markdown",
   "source": [
    "Note that a launch only happens in one of the four launch sites, which means many launch records will have the exact same coordinate. Marker clusters can be a good way to simplify a map containing many markers having the same coordinate.\n"
   ],
   "metadata": {}
  },
  {
   "cell_type": "markdown",
   "source": [
    "Let's first create a `MarkerCluster` object\n"
   ],
   "metadata": {
    "collapsed": false
   }
  },
  {
   "cell_type": "code",
   "execution_count": null,
   "outputs": [],
   "source": [
    "marker_cluster = MarkerCluster()\n"
   ],
   "metadata": {
    "collapsed": false
   }
  },
  {
   "cell_type": "markdown",
   "source": [
    "*TODO:* Create a new column in `launch_sites` dataframe called `marker_color` to store the marker colors based on the `class` value\n"
   ],
   "metadata": {
    "collapsed": false
   }
  },
  {
   "cell_type": "code",
   "execution_count": null,
   "outputs": [],
   "source": [
    "color =  []\n",
    "for x in spacex_df['class']:\n",
    "    if x == 0:\n",
    "        color.append('red')\n",
    "    else:\n",
    "        color.append('green')\n",
    "spacex_df['marker_color'] = color\n",
    "spacex_df.head()"
   ],
   "metadata": {
    "collapsed": false
   }
  },
  {
   "cell_type": "markdown",
   "source": [
    "*TODO:* For each launch result in `spacex_df` data frame, add a `folium.Marker` to `marker_cluster`\n"
   ],
   "metadata": {
    "collapsed": false
   }
  },
  {
   "cell_type": "code",
   "execution_count": null,
   "outputs": [],
   "source": [
    "# Add marker_cluster to current site_map\n",
    "for lat, long, color in zip(spacex_df['Lat'], spacex_df['Long'], spacex_df['marker_color']):\n",
    "\n",
    "    folium.Marker(\n",
    "        location=[lat, long],\n",
    "        icon=folium.Icon(color=color),\n",
    "    ).add_to(marker_cluster)\n",
    "\n",
    "site_map.add_child(marker_cluster)\n",
    "\n",
    "site_map"
   ],
   "metadata": {
    "collapsed": false
   }
  },
  {
   "cell_type": "markdown",
   "source": [
    "Your updated map may look like the following screenshots:\n"
   ],
   "metadata": {}
  },
  {
   "cell_type": "markdown",
   "source": [
    "<center>\n",
    "    <img src=\"https://cf-courses-data.s3.us.cloud-object-storage.appdomain.cloud/IBM-DS0321EN-SkillsNetwork/labs/module_3/images/launch_site_marker_cluster.png\">\n",
    "</center>\n"
   ],
   "metadata": {}
  },
  {
   "cell_type": "markdown",
   "source": [
    "<center>\n",
    "    <img src=\"https://cf-courses-data.s3.us.cloud-object-storage.appdomain.cloud/IBM-DS0321EN-SkillsNetwork/labs/module_3/images/launch_site_marker_cluster_zoomed.png\">\n",
    "</center>\n"
   ],
   "metadata": {}
  },
  {
   "cell_type": "markdown",
   "source": [
    "From the color-labeled markers in marker clusters, you should be able to easily identify which launch sites have relatively high success rates.\n"
   ],
   "metadata": {}
  },
  {
   "cell_type": "markdown",
   "source": [
    "# TASK 3: Calculate the distances between a launch site to its proximities\n"
   ],
   "metadata": {}
  },
  {
   "cell_type": "markdown",
   "source": [
    "Next, we need to explore and analyze the proximities of launch sites.\n"
   ],
   "metadata": {}
  },
  {
   "cell_type": "markdown",
   "source": [
    "Let's first add a `MousePosition` on the map to get coordinate for a mouse over a point on the map. As such, while you are exploring the map, you can easily find the coordinates of any points of interests (such as railway)\n"
   ],
   "metadata": {
    "collapsed": false
   }
  },
  {
   "cell_type": "code",
   "execution_count": null,
   "outputs": [],
   "source": [
    "# Add Mouse Position to get the coordinate (Lat, Long) for a mouse over on the map\n",
    "formatter = \"function(num) {return L.Util.formatNum(num, 5);};\"\n",
    "mouse_position = MousePosition(\n",
    "    position='topright',\n",
    "    separator=' Long: ',\n",
    "    empty_string='NaN',\n",
    "    lng_first=False,\n",
    "    num_digits=20,\n",
    "    prefix='Lat:',\n",
    "    lat_formatter=formatter,\n",
    "    lng_formatter=formatter,\n",
    ")\n",
    "\n",
    "site_map.add_child(mouse_position)\n",
    "site_map"
   ],
   "metadata": {
    "collapsed": false
   }
  },
  {
   "cell_type": "markdown",
   "source": [
    "Now zoom in to a launch site and explore its proximity to see if you can easily find any railway, highway, coastline, etc. Move your mouse to these points and mark down their coordinates (shown on the top-left) in order to the distance to the launch site.\n"
   ],
   "metadata": {}
  },
  {
   "cell_type": "markdown",
   "source": [
    "Now zoom in to a launch site and explore its proximity to see if you can easily find any railway, highway, coastline, etc. Move your mouse to these points and mark down their coordinates (shown on the top-left) in order to the distance to the launch site.\n"
   ],
   "metadata": {
    "collapsed": false
   }
  },
  {
   "cell_type": "code",
   "execution_count": null,
   "outputs": [],
   "source": [
    "from math import sin, cos, sqrt, atan2, radians\n",
    "\n",
    "def calculate_distance(lat1, lon1, lat2, lon2):\n",
    "    # approximate radius of earth in km\n",
    "    R = 6373.0\n",
    "\n",
    "    lat1 = radians(lat1)\n",
    "    lon1 = radians(lon1)\n",
    "    lat2 = radians(lat2)\n",
    "    lon2 = radians(lon2)\n",
    "\n",
    "    dlon = lon2 - lon1\n",
    "    dlat = lat2 - lat1\n",
    "\n",
    "    a = sin(dlat / 2)**2 + cos(lat1) * cos(lat2) * sin(dlon / 2)**2\n",
    "    c = 2 * atan2(sqrt(a), sqrt(1 - a))\n",
    "\n",
    "    distance = R * c\n",
    "    return distance"
   ],
   "metadata": {
    "collapsed": false
   }
  },
  {
   "cell_type": "markdown",
   "source": [
    "*TODO:* Mark down a point on the closest coastline using MousePosition and calculate the distance between the coastline point and the launch site.\n"
   ],
   "metadata": {
    "collapsed": false
   }
  },
  {
   "cell_type": "code",
   "source": [
    "# find coordinate of the closet coastline\n",
    "# e.g.,: Lat: 28.56367  Lon: -80.57163\n",
    "distance_coastline = calculate_distance(28.563197, -80.576820, 28.56327, -80.56789)\n",
    "distance_coastline"
   ],
   "metadata": {
    "trusted": true
   },
   "outputs": [
    {
     "execution_count": 39,
     "output_type": "execute_result",
     "data": {
      "text/plain": "<folium.folium.Map at 0x5b8c528>",
      "text/html": "<div style=\"width:100%;\"><div style=\"position:relative;width:100%;height:0;padding-bottom:60%;\"><span style=\"color:#565656\">Make this Notebook Trusted to load map: File -> Trust Notebook</span><iframe srcdoc=\"&lt;!DOCTYPE html&gt;\n&lt;html&gt;\n&lt;head&gt;\n    \n    &lt;meta http-equiv=&quot;content-type&quot; content=&quot;text/html; charset=UTF-8&quot; /&gt;\n    \n        &lt;script&gt;\n            L_NO_TOUCH = false;\n            L_DISABLE_3D = false;\n        &lt;/script&gt;\n    \n    &lt;style&gt;html, body {width: 100%;height: 100%;margin: 0;padding: 0;}&lt;/style&gt;\n    &lt;style&gt;#map {position:absolute;top:0;bottom:0;right:0;left:0;}&lt;/style&gt;\n    &lt;script src=&quot;https://cdn.jsdelivr.net/npm/leaflet@1.9.3/dist/leaflet.js&quot;&gt;&lt;/script&gt;\n    &lt;script src=&quot;https://code.jquery.com/jquery-3.7.1.min.js&quot;&gt;&lt;/script&gt;\n    &lt;script src=&quot;https://cdn.jsdelivr.net/npm/bootstrap@5.2.2/dist/js/bootstrap.bundle.min.js&quot;&gt;&lt;/script&gt;\n    &lt;script src=&quot;https://cdnjs.cloudflare.com/ajax/libs/Leaflet.awesome-markers/2.0.2/leaflet.awesome-markers.js&quot;&gt;&lt;/script&gt;\n    &lt;link rel=&quot;stylesheet&quot; href=&quot;https://cdn.jsdelivr.net/npm/leaflet@1.9.3/dist/leaflet.css&quot;/&gt;\n    &lt;link rel=&quot;stylesheet&quot; href=&quot;https://cdn.jsdelivr.net/npm/bootstrap@5.2.2/dist/css/bootstrap.min.css&quot;/&gt;\n    &lt;link rel=&quot;stylesheet&quot; href=&quot;https://netdna.bootstrapcdn.com/bootstrap/3.0.0/css/bootstrap.min.css&quot;/&gt;\n    &lt;link rel=&quot;stylesheet&quot; href=&quot;https://cdn.jsdelivr.net/npm/@fortawesome/fontawesome-free@6.2.0/css/all.min.css&quot;/&gt;\n    &lt;link rel=&quot;stylesheet&quot; href=&quot;https://cdnjs.cloudflare.com/ajax/libs/Leaflet.awesome-markers/2.0.2/leaflet.awesome-markers.css&quot;/&gt;\n    &lt;link rel=&quot;stylesheet&quot; href=&quot;https://cdn.jsdelivr.net/gh/python-visualization/folium/folium/templates/leaflet.awesome.rotate.min.css&quot;/&gt;\n    \n            &lt;meta name=&quot;viewport&quot; content=&quot;width=device-width,\n                initial-scale=1.0, maximum-scale=1.0, user-scalable=no&quot; /&gt;\n            &lt;style&gt;\n                #map_3eeacea75806a21cc2d0a9250f46c8ff {\n                    position: relative;\n                    width: 100.0%;\n                    height: 100.0%;\n                    left: 0.0%;\n                    top: 0.0%;\n                }\n                .leaflet-container { font-size: 1rem; }\n            &lt;/style&gt;\n        \n    &lt;script src=&quot;https://cdnjs.cloudflare.com/ajax/libs/leaflet.markercluster/1.1.0/leaflet.markercluster.js&quot;&gt;&lt;/script&gt;\n    &lt;link rel=&quot;stylesheet&quot; href=&quot;https://cdnjs.cloudflare.com/ajax/libs/leaflet.markercluster/1.1.0/MarkerCluster.css&quot;/&gt;\n    &lt;link rel=&quot;stylesheet&quot; href=&quot;https://cdnjs.cloudflare.com/ajax/libs/leaflet.markercluster/1.1.0/MarkerCluster.Default.css&quot;/&gt;\n    &lt;script src=&quot;https://cdn.jsdelivr.net/gh/ardhi/Leaflet.MousePosition/src/L.Control.MousePosition.min.js&quot;&gt;&lt;/script&gt;\n    &lt;link rel=&quot;stylesheet&quot; href=&quot;https://cdn.jsdelivr.net/gh/ardhi/Leaflet.MousePosition/src/L.Control.MousePosition.min.css&quot;/&gt;\n&lt;/head&gt;\n&lt;body&gt;\n    \n    \n            &lt;div class=&quot;folium-map&quot; id=&quot;map_3eeacea75806a21cc2d0a9250f46c8ff&quot; &gt;&lt;/div&gt;\n        \n&lt;/body&gt;\n&lt;script&gt;\n    \n    \n            var map_3eeacea75806a21cc2d0a9250f46c8ff = L.map(\n                &quot;map_3eeacea75806a21cc2d0a9250f46c8ff&quot;,\n                {\n                    center: [29.559684888503615, -95.0830971930759],\n                    crs: L.CRS.EPSG3857,\n                    zoom: 5,\n                    zoomControl: true,\n                    preferCanvas: false,\n                }\n            );\n\n            \n\n        \n    \n            var tile_layer_2d9213896cedf01616b1ffc71a3fa557 = L.tileLayer(\n                &quot;https://tile.openstreetmap.org/{z}/{x}/{y}.png&quot;,\n                {&quot;attribution&quot;: &quot;\\u0026copy; \\u003ca href=\\&quot;https://www.openstreetmap.org/copyright\\&quot;\\u003eOpenStreetMap\\u003c/a\\u003e contributors&quot;, &quot;detectRetina&quot;: false, &quot;maxNativeZoom&quot;: 19, &quot;maxZoom&quot;: 19, &quot;minZoom&quot;: 0, &quot;noWrap&quot;: false, &quot;opacity&quot;: 1, &quot;subdomains&quot;: &quot;abc&quot;, &quot;tms&quot;: false}\n            );\n        \n    \n            tile_layer_2d9213896cedf01616b1ffc71a3fa557.addTo(map_3eeacea75806a21cc2d0a9250f46c8ff);\n        \n    \n            var circle_7c815a45d14f2b29267634a31f08f012 = L.circle(\n                [28.56230197, -80.57735648],\n                {&quot;bubblingMouseEvents&quot;: true, &quot;color&quot;: &quot;#d35400&quot;, &quot;dashArray&quot;: null, &quot;dashOffset&quot;: null, &quot;fill&quot;: true, &quot;fillColor&quot;: &quot;#d35400&quot;, &quot;fillOpacity&quot;: 0.2, &quot;fillRule&quot;: &quot;evenodd&quot;, &quot;lineCap&quot;: &quot;round&quot;, &quot;lineJoin&quot;: &quot;round&quot;, &quot;opacity&quot;: 1.0, &quot;radius&quot;: 100, &quot;stroke&quot;: true, &quot;weight&quot;: 3}\n            ).addTo(map_3eeacea75806a21cc2d0a9250f46c8ff);\n        \n    \n        var popup_4af8c27ea5a9cc3f7206be1d147097e1 = L.popup({&quot;maxWidth&quot;: &quot;100%&quot;});\n\n        \n            \n                var html_3c52e7f42296f7328d5a6cdf04abb343 = $(`&lt;div id=&quot;html_3c52e7f42296f7328d5a6cdf04abb343&quot; style=&quot;width: 100.0%; height: 100.0%;&quot;&gt;CCAFS LC-40&lt;/div&gt;`)[0];\n                popup_4af8c27ea5a9cc3f7206be1d147097e1.setContent(html_3c52e7f42296f7328d5a6cdf04abb343);\n            \n        \n\n        circle_7c815a45d14f2b29267634a31f08f012.bindPopup(popup_4af8c27ea5a9cc3f7206be1d147097e1)\n        ;\n\n        \n    \n    \n            var marker_a495b11a1762b4443e0fc366cba2216e = L.marker(\n                [28.56230197, -80.57735648],\n                {}\n            ).addTo(map_3eeacea75806a21cc2d0a9250f46c8ff);\n        \n    \n            var div_icon_3f3c1177300b12be486e8b1492eae6da = L.divIcon({&quot;className&quot;: &quot;empty&quot;, &quot;html&quot;: &quot;\\u003cdiv style=\\&quot;font-size: 10; color:#d35400;\\&quot;\\u003e\\u003cb\\u003eCCAFS LC-40\\u003c/b\\u003e\\u003c/div\\u003e&quot;, &quot;iconAnchor&quot;: [0, 0], &quot;iconSize&quot;: [10, 10]});\n            marker_a495b11a1762b4443e0fc366cba2216e.setIcon(div_icon_3f3c1177300b12be486e8b1492eae6da);\n        \n    \n            var circle_57486083c47e8ffebf3a90ff1c2571d1 = L.circle(\n                [28.56319718, -80.57682003],\n                {&quot;bubblingMouseEvents&quot;: true, &quot;color&quot;: &quot;#d35400&quot;, &quot;dashArray&quot;: null, &quot;dashOffset&quot;: null, &quot;fill&quot;: true, &quot;fillColor&quot;: &quot;#d35400&quot;, &quot;fillOpacity&quot;: 0.2, &quot;fillRule&quot;: &quot;evenodd&quot;, &quot;lineCap&quot;: &quot;round&quot;, &quot;lineJoin&quot;: &quot;round&quot;, &quot;opacity&quot;: 1.0, &quot;radius&quot;: 100, &quot;stroke&quot;: true, &quot;weight&quot;: 3}\n            ).addTo(map_3eeacea75806a21cc2d0a9250f46c8ff);\n        \n    \n        var popup_04f4710a9e2b3101be34cf39757bf370 = L.popup({&quot;maxWidth&quot;: &quot;100%&quot;});\n\n        \n            \n                var html_a28d9ebd8ab306cdca280cf669c1eaea = $(`&lt;div id=&quot;html_a28d9ebd8ab306cdca280cf669c1eaea&quot; style=&quot;width: 100.0%; height: 100.0%;&quot;&gt;CCAFS SLC-40&lt;/div&gt;`)[0];\n                popup_04f4710a9e2b3101be34cf39757bf370.setContent(html_a28d9ebd8ab306cdca280cf669c1eaea);\n            \n        \n\n        circle_57486083c47e8ffebf3a90ff1c2571d1.bindPopup(popup_04f4710a9e2b3101be34cf39757bf370)\n        ;\n\n        \n    \n    \n            var marker_a724a715feb8cefe14febfe011785d02 = L.marker(\n                [28.56319718, -80.57682003],\n                {}\n            ).addTo(map_3eeacea75806a21cc2d0a9250f46c8ff);\n        \n    \n            var div_icon_8956240ca2011ce16e8a04da3d928ec7 = L.divIcon({&quot;className&quot;: &quot;empty&quot;, &quot;html&quot;: &quot;\\u003cdiv style=\\&quot;font-size: 10; color:#d35400;\\&quot;\\u003e\\u003cb\\u003eCCAFS SLC-40\\u003c/b\\u003e\\u003c/div\\u003e&quot;, &quot;iconAnchor&quot;: [0, 0], &quot;iconSize&quot;: [10, 10]});\n            marker_a724a715feb8cefe14febfe011785d02.setIcon(div_icon_8956240ca2011ce16e8a04da3d928ec7);\n        \n    \n            var circle_f6a1a3b09fd611e15954f48190e18ff1 = L.circle(\n                [28.57325457, -80.64689529],\n                {&quot;bubblingMouseEvents&quot;: true, &quot;color&quot;: &quot;#d35400&quot;, &quot;dashArray&quot;: null, &quot;dashOffset&quot;: null, &quot;fill&quot;: true, &quot;fillColor&quot;: &quot;#d35400&quot;, &quot;fillOpacity&quot;: 0.2, &quot;fillRule&quot;: &quot;evenodd&quot;, &quot;lineCap&quot;: &quot;round&quot;, &quot;lineJoin&quot;: &quot;round&quot;, &quot;opacity&quot;: 1.0, &quot;radius&quot;: 100, &quot;stroke&quot;: true, &quot;weight&quot;: 3}\n            ).addTo(map_3eeacea75806a21cc2d0a9250f46c8ff);\n        \n    \n        var popup_b9f9f62c15fc2b0ff209259a712ab5db = L.popup({&quot;maxWidth&quot;: &quot;100%&quot;});\n\n        \n            \n                var html_dbb806040dc7b419cb25ceed98f84f43 = $(`&lt;div id=&quot;html_dbb806040dc7b419cb25ceed98f84f43&quot; style=&quot;width: 100.0%; height: 100.0%;&quot;&gt;KSC LC-39A&lt;/div&gt;`)[0];\n                popup_b9f9f62c15fc2b0ff209259a712ab5db.setContent(html_dbb806040dc7b419cb25ceed98f84f43);\n            \n        \n\n        circle_f6a1a3b09fd611e15954f48190e18ff1.bindPopup(popup_b9f9f62c15fc2b0ff209259a712ab5db)\n        ;\n\n        \n    \n    \n            var marker_862144b451de293221c516f4836b8c2c = L.marker(\n                [28.57325457, -80.64689529],\n                {}\n            ).addTo(map_3eeacea75806a21cc2d0a9250f46c8ff);\n        \n    \n            var div_icon_c5dc6415625bdd625302a5a6a9a4ec83 = L.divIcon({&quot;className&quot;: &quot;empty&quot;, &quot;html&quot;: &quot;\\u003cdiv style=\\&quot;font-size: 10; color:#d35400;\\&quot;\\u003e\\u003cb\\u003eKSC LC-39A\\u003c/b\\u003e\\u003c/div\\u003e&quot;, &quot;iconAnchor&quot;: [0, 0], &quot;iconSize&quot;: [10, 10]});\n            marker_862144b451de293221c516f4836b8c2c.setIcon(div_icon_c5dc6415625bdd625302a5a6a9a4ec83);\n        \n    \n            var circle_59a1733e2cb579c9c52f824d769d950b = L.circle(\n                [34.63283416, -120.6107455],\n                {&quot;bubblingMouseEvents&quot;: true, &quot;color&quot;: &quot;#d35400&quot;, &quot;dashArray&quot;: null, &quot;dashOffset&quot;: null, &quot;fill&quot;: true, &quot;fillColor&quot;: &quot;#d35400&quot;, &quot;fillOpacity&quot;: 0.2, &quot;fillRule&quot;: &quot;evenodd&quot;, &quot;lineCap&quot;: &quot;round&quot;, &quot;lineJoin&quot;: &quot;round&quot;, &quot;opacity&quot;: 1.0, &quot;radius&quot;: 100, &quot;stroke&quot;: true, &quot;weight&quot;: 3}\n            ).addTo(map_3eeacea75806a21cc2d0a9250f46c8ff);\n        \n    \n        var popup_d22bfe5403b919c6dd449ce85dc61d14 = L.popup({&quot;maxWidth&quot;: &quot;100%&quot;});\n\n        \n            \n                var html_b363ff2ff0a280a64a14bbb1d09a3203 = $(`&lt;div id=&quot;html_b363ff2ff0a280a64a14bbb1d09a3203&quot; style=&quot;width: 100.0%; height: 100.0%;&quot;&gt;VAFB SLC-4E&lt;/div&gt;`)[0];\n                popup_d22bfe5403b919c6dd449ce85dc61d14.setContent(html_b363ff2ff0a280a64a14bbb1d09a3203);\n            \n        \n\n        circle_59a1733e2cb579c9c52f824d769d950b.bindPopup(popup_d22bfe5403b919c6dd449ce85dc61d14)\n        ;\n\n        \n    \n    \n            var marker_0504419a0b5493a0147e2a4c8a271ead = L.marker(\n                [34.63283416, -120.6107455],\n                {}\n            ).addTo(map_3eeacea75806a21cc2d0a9250f46c8ff);\n        \n    \n            var div_icon_39cc3561681139527f61f30423359875 = L.divIcon({&quot;className&quot;: &quot;empty&quot;, &quot;html&quot;: &quot;\\u003cdiv style=\\&quot;font-size: 10; color:#d35400;\\&quot;\\u003e\\u003cb\\u003eVAFB SLC-4E\\u003c/b\\u003e\\u003c/div\\u003e&quot;, &quot;iconAnchor&quot;: [0, 0], &quot;iconSize&quot;: [10, 10]});\n            marker_0504419a0b5493a0147e2a4c8a271ead.setIcon(div_icon_39cc3561681139527f61f30423359875);\n        \n    \n            tile_layer_2d9213896cedf01616b1ffc71a3fa557.addTo(map_3eeacea75806a21cc2d0a9250f46c8ff);\n        \n    \n            var marker_cluster_4b85ecfc0d62af86f9851f39ae6f0715 = L.markerClusterGroup(\n                {}\n            );\n        \n    \n            var marker_aa868233d27e6fdeaebe7e2c0b0afd71 = L.marker(\n                [28.56230197, -80.57735648],\n                {}\n            ).addTo(marker_cluster_4b85ecfc0d62af86f9851f39ae6f0715);\n        \n    \n            var icon_827b91af6e8f87a814a18e71b1a645e6 = L.AwesomeMarkers.icon(\n                {&quot;extraClasses&quot;: &quot;fa-rotate-0&quot;, &quot;icon&quot;: &quot;info-sign&quot;, &quot;iconColor&quot;: &quot;white&quot;, &quot;markerColor&quot;: &quot;red&quot;, &quot;prefix&quot;: &quot;glyphicon&quot;}\n            );\n            marker_aa868233d27e6fdeaebe7e2c0b0afd71.setIcon(icon_827b91af6e8f87a814a18e71b1a645e6);\n        \n    \n            var marker_45c2ca8d20b4e819f7cdea150ef4e832 = L.marker(\n                [28.56230197, -80.57735648],\n                {}\n            ).addTo(marker_cluster_4b85ecfc0d62af86f9851f39ae6f0715);\n        \n    \n            var icon_c037423b7a58c65311b30aa75cfecabc = L.AwesomeMarkers.icon(\n                {&quot;extraClasses&quot;: &quot;fa-rotate-0&quot;, &quot;icon&quot;: &quot;info-sign&quot;, &quot;iconColor&quot;: &quot;white&quot;, &quot;markerColor&quot;: &quot;red&quot;, &quot;prefix&quot;: &quot;glyphicon&quot;}\n            );\n            marker_45c2ca8d20b4e819f7cdea150ef4e832.setIcon(icon_c037423b7a58c65311b30aa75cfecabc);\n        \n    \n            var marker_c6465009249797668ef319726c522dfe = L.marker(\n                [28.56230197, -80.57735648],\n                {}\n            ).addTo(marker_cluster_4b85ecfc0d62af86f9851f39ae6f0715);\n        \n    \n            var icon_c402cda3e1d2c45d148dfef1455e02dc = L.AwesomeMarkers.icon(\n                {&quot;extraClasses&quot;: &quot;fa-rotate-0&quot;, &quot;icon&quot;: &quot;info-sign&quot;, &quot;iconColor&quot;: &quot;white&quot;, &quot;markerColor&quot;: &quot;red&quot;, &quot;prefix&quot;: &quot;glyphicon&quot;}\n            );\n            marker_c6465009249797668ef319726c522dfe.setIcon(icon_c402cda3e1d2c45d148dfef1455e02dc);\n        \n    \n            var marker_df2de0c0d23eef75fed306b6703cef61 = L.marker(\n                [28.56230197, -80.57735648],\n                {}\n            ).addTo(marker_cluster_4b85ecfc0d62af86f9851f39ae6f0715);\n        \n    \n            var icon_480e221ed07a46ecdd62ae878b3d47e4 = L.AwesomeMarkers.icon(\n                {&quot;extraClasses&quot;: &quot;fa-rotate-0&quot;, &quot;icon&quot;: &quot;info-sign&quot;, &quot;iconColor&quot;: &quot;white&quot;, &quot;markerColor&quot;: &quot;red&quot;, &quot;prefix&quot;: &quot;glyphicon&quot;}\n            );\n            marker_df2de0c0d23eef75fed306b6703cef61.setIcon(icon_480e221ed07a46ecdd62ae878b3d47e4);\n        \n    \n            var marker_c7376b68cd7af7c53a720710079392e4 = L.marker(\n                [28.56230197, -80.57735648],\n                {}\n            ).addTo(marker_cluster_4b85ecfc0d62af86f9851f39ae6f0715);\n        \n    \n            var icon_425978e4bb67aeb06d1574cc1f984378 = L.AwesomeMarkers.icon(\n                {&quot;extraClasses&quot;: &quot;fa-rotate-0&quot;, &quot;icon&quot;: &quot;info-sign&quot;, &quot;iconColor&quot;: &quot;white&quot;, &quot;markerColor&quot;: &quot;red&quot;, &quot;prefix&quot;: &quot;glyphicon&quot;}\n            );\n            marker_c7376b68cd7af7c53a720710079392e4.setIcon(icon_425978e4bb67aeb06d1574cc1f984378);\n        \n    \n            var marker_0b65a12323d1d5ac90446d598db32d75 = L.marker(\n                [28.56230197, -80.57735648],\n                {}\n            ).addTo(marker_cluster_4b85ecfc0d62af86f9851f39ae6f0715);\n        \n    \n            var icon_a862be2484e95b7965a9771c97ae8407 = L.AwesomeMarkers.icon(\n                {&quot;extraClasses&quot;: &quot;fa-rotate-0&quot;, &quot;icon&quot;: &quot;info-sign&quot;, &quot;iconColor&quot;: &quot;white&quot;, &quot;markerColor&quot;: &quot;red&quot;, &quot;prefix&quot;: &quot;glyphicon&quot;}\n            );\n            marker_0b65a12323d1d5ac90446d598db32d75.setIcon(icon_a862be2484e95b7965a9771c97ae8407);\n        \n    \n            var marker_c2884fab308e229764825fa7089cbcfd = L.marker(\n                [28.56230197, -80.57735648],\n                {}\n            ).addTo(marker_cluster_4b85ecfc0d62af86f9851f39ae6f0715);\n        \n    \n            var icon_52cc67dca918fc36dbaef3cfceb7e3c5 = L.AwesomeMarkers.icon(\n                {&quot;extraClasses&quot;: &quot;fa-rotate-0&quot;, &quot;icon&quot;: &quot;info-sign&quot;, &quot;iconColor&quot;: &quot;white&quot;, &quot;markerColor&quot;: &quot;red&quot;, &quot;prefix&quot;: &quot;glyphicon&quot;}\n            );\n            marker_c2884fab308e229764825fa7089cbcfd.setIcon(icon_52cc67dca918fc36dbaef3cfceb7e3c5);\n        \n    \n            var marker_d0be11e9de073b4c883b8780fea7788a = L.marker(\n                [28.56230197, -80.57735648],\n                {}\n            ).addTo(marker_cluster_4b85ecfc0d62af86f9851f39ae6f0715);\n        \n    \n            var icon_561d9a460beb7f74f9e75ee57e8000dc = L.AwesomeMarkers.icon(\n                {&quot;extraClasses&quot;: &quot;fa-rotate-0&quot;, &quot;icon&quot;: &quot;info-sign&quot;, &quot;iconColor&quot;: &quot;white&quot;, &quot;markerColor&quot;: &quot;red&quot;, &quot;prefix&quot;: &quot;glyphicon&quot;}\n            );\n            marker_d0be11e9de073b4c883b8780fea7788a.setIcon(icon_561d9a460beb7f74f9e75ee57e8000dc);\n        \n    \n            var marker_a90875020886c72d4dfc5b39f7d77190 = L.marker(\n                [28.56230197, -80.57735648],\n                {}\n            ).addTo(marker_cluster_4b85ecfc0d62af86f9851f39ae6f0715);\n        \n    \n            var icon_de72b072f2d5711ad155bc6136caad45 = L.AwesomeMarkers.icon(\n                {&quot;extraClasses&quot;: &quot;fa-rotate-0&quot;, &quot;icon&quot;: &quot;info-sign&quot;, &quot;iconColor&quot;: &quot;white&quot;, &quot;markerColor&quot;: &quot;red&quot;, &quot;prefix&quot;: &quot;glyphicon&quot;}\n            );\n            marker_a90875020886c72d4dfc5b39f7d77190.setIcon(icon_de72b072f2d5711ad155bc6136caad45);\n        \n    \n            var marker_ee239864a2c5600c4c803b7a9b8501f9 = L.marker(\n                [28.56230197, -80.57735648],\n                {}\n            ).addTo(marker_cluster_4b85ecfc0d62af86f9851f39ae6f0715);\n        \n    \n            var icon_8cfa9697c18c325b559243fd33e173bb = L.AwesomeMarkers.icon(\n                {&quot;extraClasses&quot;: &quot;fa-rotate-0&quot;, &quot;icon&quot;: &quot;info-sign&quot;, &quot;iconColor&quot;: &quot;white&quot;, &quot;markerColor&quot;: &quot;red&quot;, &quot;prefix&quot;: &quot;glyphicon&quot;}\n            );\n            marker_ee239864a2c5600c4c803b7a9b8501f9.setIcon(icon_8cfa9697c18c325b559243fd33e173bb);\n        \n    \n            var marker_756f599c93a4ab889a1446dedf80c07d = L.marker(\n                [28.56230197, -80.57735648],\n                {}\n            ).addTo(marker_cluster_4b85ecfc0d62af86f9851f39ae6f0715);\n        \n    \n            var icon_253a4fcf627cbf873d57e812c5a491fb = L.AwesomeMarkers.icon(\n                {&quot;extraClasses&quot;: &quot;fa-rotate-0&quot;, &quot;icon&quot;: &quot;info-sign&quot;, &quot;iconColor&quot;: &quot;white&quot;, &quot;markerColor&quot;: &quot;red&quot;, &quot;prefix&quot;: &quot;glyphicon&quot;}\n            );\n            marker_756f599c93a4ab889a1446dedf80c07d.setIcon(icon_253a4fcf627cbf873d57e812c5a491fb);\n        \n    \n            var marker_4d36a255330a752f2d92d3c154d1d4cf = L.marker(\n                [28.56230197, -80.57735648],\n                {}\n            ).addTo(marker_cluster_4b85ecfc0d62af86f9851f39ae6f0715);\n        \n    \n            var icon_7e0ce31a5a5146245bf06d8789e4b911 = L.AwesomeMarkers.icon(\n                {&quot;extraClasses&quot;: &quot;fa-rotate-0&quot;, &quot;icon&quot;: &quot;info-sign&quot;, &quot;iconColor&quot;: &quot;white&quot;, &quot;markerColor&quot;: &quot;red&quot;, &quot;prefix&quot;: &quot;glyphicon&quot;}\n            );\n            marker_4d36a255330a752f2d92d3c154d1d4cf.setIcon(icon_7e0ce31a5a5146245bf06d8789e4b911);\n        \n    \n            var marker_9140f103d894061443b3d5db6c58461c = L.marker(\n                [28.56230197, -80.57735648],\n                {}\n            ).addTo(marker_cluster_4b85ecfc0d62af86f9851f39ae6f0715);\n        \n    \n            var icon_046bb3f30dead7e30849ae3d2635c175 = L.AwesomeMarkers.icon(\n                {&quot;extraClasses&quot;: &quot;fa-rotate-0&quot;, &quot;icon&quot;: &quot;info-sign&quot;, &quot;iconColor&quot;: &quot;white&quot;, &quot;markerColor&quot;: &quot;red&quot;, &quot;prefix&quot;: &quot;glyphicon&quot;}\n            );\n            marker_9140f103d894061443b3d5db6c58461c.setIcon(icon_046bb3f30dead7e30849ae3d2635c175);\n        \n    \n            var marker_0cf107e2c7bcf4be249675ea110fdf14 = L.marker(\n                [28.56230197, -80.57735648],\n                {}\n            ).addTo(marker_cluster_4b85ecfc0d62af86f9851f39ae6f0715);\n        \n    \n            var icon_f2f3acc3de51a1a0da4171f8bde24e76 = L.AwesomeMarkers.icon(\n                {&quot;extraClasses&quot;: &quot;fa-rotate-0&quot;, &quot;icon&quot;: &quot;info-sign&quot;, &quot;iconColor&quot;: &quot;white&quot;, &quot;markerColor&quot;: &quot;red&quot;, &quot;prefix&quot;: &quot;glyphicon&quot;}\n            );\n            marker_0cf107e2c7bcf4be249675ea110fdf14.setIcon(icon_f2f3acc3de51a1a0da4171f8bde24e76);\n        \n    \n            var marker_66a2a1e44b96b4e5f25c83eb27a56ee4 = L.marker(\n                [28.56230197, -80.57735648],\n                {}\n            ).addTo(marker_cluster_4b85ecfc0d62af86f9851f39ae6f0715);\n        \n    \n            var icon_bcd278594f012654b9c23af4802f8827 = L.AwesomeMarkers.icon(\n                {&quot;extraClasses&quot;: &quot;fa-rotate-0&quot;, &quot;icon&quot;: &quot;info-sign&quot;, &quot;iconColor&quot;: &quot;white&quot;, &quot;markerColor&quot;: &quot;red&quot;, &quot;prefix&quot;: &quot;glyphicon&quot;}\n            );\n            marker_66a2a1e44b96b4e5f25c83eb27a56ee4.setIcon(icon_bcd278594f012654b9c23af4802f8827);\n        \n    \n            var marker_bdb8f71495d04c066da906d6ea1ff4c4 = L.marker(\n                [28.56230197, -80.57735648],\n                {}\n            ).addTo(marker_cluster_4b85ecfc0d62af86f9851f39ae6f0715);\n        \n    \n            var icon_855ac1b9b3b9ba46bd340ab2c58f732d = L.AwesomeMarkers.icon(\n                {&quot;extraClasses&quot;: &quot;fa-rotate-0&quot;, &quot;icon&quot;: &quot;info-sign&quot;, &quot;iconColor&quot;: &quot;white&quot;, &quot;markerColor&quot;: &quot;red&quot;, &quot;prefix&quot;: &quot;glyphicon&quot;}\n            );\n            marker_bdb8f71495d04c066da906d6ea1ff4c4.setIcon(icon_855ac1b9b3b9ba46bd340ab2c58f732d);\n        \n    \n            var marker_444c0852674fd96f90b044eaf9545fc4 = L.marker(\n                [28.56230197, -80.57735648],\n                {}\n            ).addTo(marker_cluster_4b85ecfc0d62af86f9851f39ae6f0715);\n        \n    \n            var icon_4ec27ee924d944889e3047e0ff73adb4 = L.AwesomeMarkers.icon(\n                {&quot;extraClasses&quot;: &quot;fa-rotate-0&quot;, &quot;icon&quot;: &quot;info-sign&quot;, &quot;iconColor&quot;: &quot;white&quot;, &quot;markerColor&quot;: &quot;red&quot;, &quot;prefix&quot;: &quot;glyphicon&quot;}\n            );\n            marker_444c0852674fd96f90b044eaf9545fc4.setIcon(icon_4ec27ee924d944889e3047e0ff73adb4);\n        \n    \n            var marker_94c602c6c860eae0a535e132c82c0b07 = L.marker(\n                [28.56230197, -80.57735648],\n                {}\n            ).addTo(marker_cluster_4b85ecfc0d62af86f9851f39ae6f0715);\n        \n    \n            var icon_065bc9ecaaf5d8a7032ce45f99042fc3 = L.AwesomeMarkers.icon(\n                {&quot;extraClasses&quot;: &quot;fa-rotate-0&quot;, &quot;icon&quot;: &quot;info-sign&quot;, &quot;iconColor&quot;: &quot;white&quot;, &quot;markerColor&quot;: &quot;green&quot;, &quot;prefix&quot;: &quot;glyphicon&quot;}\n            );\n            marker_94c602c6c860eae0a535e132c82c0b07.setIcon(icon_065bc9ecaaf5d8a7032ce45f99042fc3);\n        \n    \n            var marker_66a8d6e17cc8278ba3a08e20194abff1 = L.marker(\n                [28.56230197, -80.57735648],\n                {}\n            ).addTo(marker_cluster_4b85ecfc0d62af86f9851f39ae6f0715);\n        \n    \n            var icon_7f9024c42be6b749d1a02d4e06d6f80b = L.AwesomeMarkers.icon(\n                {&quot;extraClasses&quot;: &quot;fa-rotate-0&quot;, &quot;icon&quot;: &quot;info-sign&quot;, &quot;iconColor&quot;: &quot;white&quot;, &quot;markerColor&quot;: &quot;green&quot;, &quot;prefix&quot;: &quot;glyphicon&quot;}\n            );\n            marker_66a8d6e17cc8278ba3a08e20194abff1.setIcon(icon_7f9024c42be6b749d1a02d4e06d6f80b);\n        \n    \n            var marker_f9cc641533a3685b6aaf9d6d47655273 = L.marker(\n                [28.56230197, -80.57735648],\n                {}\n            ).addTo(marker_cluster_4b85ecfc0d62af86f9851f39ae6f0715);\n        \n    \n            var icon_ecc4a5207188ecfe952b1e6950e87c98 = L.AwesomeMarkers.icon(\n                {&quot;extraClasses&quot;: &quot;fa-rotate-0&quot;, &quot;icon&quot;: &quot;info-sign&quot;, &quot;iconColor&quot;: &quot;white&quot;, &quot;markerColor&quot;: &quot;red&quot;, &quot;prefix&quot;: &quot;glyphicon&quot;}\n            );\n            marker_f9cc641533a3685b6aaf9d6d47655273.setIcon(icon_ecc4a5207188ecfe952b1e6950e87c98);\n        \n    \n            var marker_0ca798ff68661ca6ee26d376e1641d54 = L.marker(\n                [28.56230197, -80.57735648],\n                {}\n            ).addTo(marker_cluster_4b85ecfc0d62af86f9851f39ae6f0715);\n        \n    \n            var icon_15760a63eb1900658baa43295cb7a155 = L.AwesomeMarkers.icon(\n                {&quot;extraClasses&quot;: &quot;fa-rotate-0&quot;, &quot;icon&quot;: &quot;info-sign&quot;, &quot;iconColor&quot;: &quot;white&quot;, &quot;markerColor&quot;: &quot;green&quot;, &quot;prefix&quot;: &quot;glyphicon&quot;}\n            );\n            marker_0ca798ff68661ca6ee26d376e1641d54.setIcon(icon_15760a63eb1900658baa43295cb7a155);\n        \n    \n            var marker_442d750b2c82062e5272782380e19f5c = L.marker(\n                [28.56230197, -80.57735648],\n                {}\n            ).addTo(marker_cluster_4b85ecfc0d62af86f9851f39ae6f0715);\n        \n    \n            var icon_b230ef062c95a7149c4b1622276e6d85 = L.AwesomeMarkers.icon(\n                {&quot;extraClasses&quot;: &quot;fa-rotate-0&quot;, &quot;icon&quot;: &quot;info-sign&quot;, &quot;iconColor&quot;: &quot;white&quot;, &quot;markerColor&quot;: &quot;green&quot;, &quot;prefix&quot;: &quot;glyphicon&quot;}\n            );\n            marker_442d750b2c82062e5272782380e19f5c.setIcon(icon_b230ef062c95a7149c4b1622276e6d85);\n        \n    \n            var marker_62f08eccc22edfb379b3bae5fc71c6ef = L.marker(\n                [28.56230197, -80.57735648],\n                {}\n            ).addTo(marker_cluster_4b85ecfc0d62af86f9851f39ae6f0715);\n        \n    \n            var icon_84056077c3cec558bc4de53854bf5bc7 = L.AwesomeMarkers.icon(\n                {&quot;extraClasses&quot;: &quot;fa-rotate-0&quot;, &quot;icon&quot;: &quot;info-sign&quot;, &quot;iconColor&quot;: &quot;white&quot;, &quot;markerColor&quot;: &quot;green&quot;, &quot;prefix&quot;: &quot;glyphicon&quot;}\n            );\n            marker_62f08eccc22edfb379b3bae5fc71c6ef.setIcon(icon_84056077c3cec558bc4de53854bf5bc7);\n        \n    \n            var marker_c54783f8db5df1065353ef89dcdaa296 = L.marker(\n                [28.56230197, -80.57735648],\n                {}\n            ).addTo(marker_cluster_4b85ecfc0d62af86f9851f39ae6f0715);\n        \n    \n            var icon_f32e27fa4fb6ed34ce6edd4e5f02b053 = L.AwesomeMarkers.icon(\n                {&quot;extraClasses&quot;: &quot;fa-rotate-0&quot;, &quot;icon&quot;: &quot;info-sign&quot;, &quot;iconColor&quot;: &quot;white&quot;, &quot;markerColor&quot;: &quot;red&quot;, &quot;prefix&quot;: &quot;glyphicon&quot;}\n            );\n            marker_c54783f8db5df1065353ef89dcdaa296.setIcon(icon_f32e27fa4fb6ed34ce6edd4e5f02b053);\n        \n    \n            var marker_ae1e5f6ab5624511066c194d66fac045 = L.marker(\n                [28.56230197, -80.57735648],\n                {}\n            ).addTo(marker_cluster_4b85ecfc0d62af86f9851f39ae6f0715);\n        \n    \n            var icon_9e6a495970d8775c95a45dbe8593953f = L.AwesomeMarkers.icon(\n                {&quot;extraClasses&quot;: &quot;fa-rotate-0&quot;, &quot;icon&quot;: &quot;info-sign&quot;, &quot;iconColor&quot;: &quot;white&quot;, &quot;markerColor&quot;: &quot;green&quot;, &quot;prefix&quot;: &quot;glyphicon&quot;}\n            );\n            marker_ae1e5f6ab5624511066c194d66fac045.setIcon(icon_9e6a495970d8775c95a45dbe8593953f);\n        \n    \n            var marker_bf54a00771efce17f4959b698870536d = L.marker(\n                [28.56230197, -80.57735648],\n                {}\n            ).addTo(marker_cluster_4b85ecfc0d62af86f9851f39ae6f0715);\n        \n    \n            var icon_42bdd6f59ce8e421c47b56d2906a1753 = L.AwesomeMarkers.icon(\n                {&quot;extraClasses&quot;: &quot;fa-rotate-0&quot;, &quot;icon&quot;: &quot;info-sign&quot;, &quot;iconColor&quot;: &quot;white&quot;, &quot;markerColor&quot;: &quot;green&quot;, &quot;prefix&quot;: &quot;glyphicon&quot;}\n            );\n            marker_bf54a00771efce17f4959b698870536d.setIcon(icon_42bdd6f59ce8e421c47b56d2906a1753);\n        \n    \n            var marker_9d91d6acfaccea5bf7cb5238460cd25d = L.marker(\n                [34.63283416, -120.6107455],\n                {}\n            ).addTo(marker_cluster_4b85ecfc0d62af86f9851f39ae6f0715);\n        \n    \n            var icon_bbd619cb5284fa4c79f419c53e427a45 = L.AwesomeMarkers.icon(\n                {&quot;extraClasses&quot;: &quot;fa-rotate-0&quot;, &quot;icon&quot;: &quot;info-sign&quot;, &quot;iconColor&quot;: &quot;white&quot;, &quot;markerColor&quot;: &quot;red&quot;, &quot;prefix&quot;: &quot;glyphicon&quot;}\n            );\n            marker_9d91d6acfaccea5bf7cb5238460cd25d.setIcon(icon_bbd619cb5284fa4c79f419c53e427a45);\n        \n    \n            var marker_6a223484d8e60b86cba59eaef4186dfa = L.marker(\n                [34.63283416, -120.6107455],\n                {}\n            ).addTo(marker_cluster_4b85ecfc0d62af86f9851f39ae6f0715);\n        \n    \n            var icon_aee8ef95050d6b06c62d2a3ed41c6bf5 = L.AwesomeMarkers.icon(\n                {&quot;extraClasses&quot;: &quot;fa-rotate-0&quot;, &quot;icon&quot;: &quot;info-sign&quot;, &quot;iconColor&quot;: &quot;white&quot;, &quot;markerColor&quot;: &quot;red&quot;, &quot;prefix&quot;: &quot;glyphicon&quot;}\n            );\n            marker_6a223484d8e60b86cba59eaef4186dfa.setIcon(icon_aee8ef95050d6b06c62d2a3ed41c6bf5);\n        \n    \n            var marker_32d9a255674169451f3cb8b8d17ffe80 = L.marker(\n                [34.63283416, -120.6107455],\n                {}\n            ).addTo(marker_cluster_4b85ecfc0d62af86f9851f39ae6f0715);\n        \n    \n            var icon_a2c32c447cb67f9a700a283323c98c2c = L.AwesomeMarkers.icon(\n                {&quot;extraClasses&quot;: &quot;fa-rotate-0&quot;, &quot;icon&quot;: &quot;info-sign&quot;, &quot;iconColor&quot;: &quot;white&quot;, &quot;markerColor&quot;: &quot;green&quot;, &quot;prefix&quot;: &quot;glyphicon&quot;}\n            );\n            marker_32d9a255674169451f3cb8b8d17ffe80.setIcon(icon_a2c32c447cb67f9a700a283323c98c2c);\n        \n    \n            var marker_83e4af2c5cf94aa9a08928fc46f2e0be = L.marker(\n                [34.63283416, -120.6107455],\n                {}\n            ).addTo(marker_cluster_4b85ecfc0d62af86f9851f39ae6f0715);\n        \n    \n            var icon_ed79e1d2c5def82a61f22a083fabcde3 = L.AwesomeMarkers.icon(\n                {&quot;extraClasses&quot;: &quot;fa-rotate-0&quot;, &quot;icon&quot;: &quot;info-sign&quot;, &quot;iconColor&quot;: &quot;white&quot;, &quot;markerColor&quot;: &quot;green&quot;, &quot;prefix&quot;: &quot;glyphicon&quot;}\n            );\n            marker_83e4af2c5cf94aa9a08928fc46f2e0be.setIcon(icon_ed79e1d2c5def82a61f22a083fabcde3);\n        \n    \n            var marker_adcb7794d1f814a3410bde1a63a4582e = L.marker(\n                [34.63283416, -120.6107455],\n                {}\n            ).addTo(marker_cluster_4b85ecfc0d62af86f9851f39ae6f0715);\n        \n    \n            var icon_ec04e901d26b3ee1a196d3b8528c3ea1 = L.AwesomeMarkers.icon(\n                {&quot;extraClasses&quot;: &quot;fa-rotate-0&quot;, &quot;icon&quot;: &quot;info-sign&quot;, &quot;iconColor&quot;: &quot;white&quot;, &quot;markerColor&quot;: &quot;green&quot;, &quot;prefix&quot;: &quot;glyphicon&quot;}\n            );\n            marker_adcb7794d1f814a3410bde1a63a4582e.setIcon(icon_ec04e901d26b3ee1a196d3b8528c3ea1);\n        \n    \n            var marker_9fb83cf57afd33bd92d4dd4be7083ba7 = L.marker(\n                [34.63283416, -120.6107455],\n                {}\n            ).addTo(marker_cluster_4b85ecfc0d62af86f9851f39ae6f0715);\n        \n    \n            var icon_6ed51ef79749fb7d908dc1967df17b49 = L.AwesomeMarkers.icon(\n                {&quot;extraClasses&quot;: &quot;fa-rotate-0&quot;, &quot;icon&quot;: &quot;info-sign&quot;, &quot;iconColor&quot;: &quot;white&quot;, &quot;markerColor&quot;: &quot;green&quot;, &quot;prefix&quot;: &quot;glyphicon&quot;}\n            );\n            marker_9fb83cf57afd33bd92d4dd4be7083ba7.setIcon(icon_6ed51ef79749fb7d908dc1967df17b49);\n        \n    \n            var marker_bee119b1a5423dad220cf7cf037958f6 = L.marker(\n                [34.63283416, -120.6107455],\n                {}\n            ).addTo(marker_cluster_4b85ecfc0d62af86f9851f39ae6f0715);\n        \n    \n            var icon_07e6b3e7f5918d598e8a16ac3df85a32 = L.AwesomeMarkers.icon(\n                {&quot;extraClasses&quot;: &quot;fa-rotate-0&quot;, &quot;icon&quot;: &quot;info-sign&quot;, &quot;iconColor&quot;: &quot;white&quot;, &quot;markerColor&quot;: &quot;red&quot;, &quot;prefix&quot;: &quot;glyphicon&quot;}\n            );\n            marker_bee119b1a5423dad220cf7cf037958f6.setIcon(icon_07e6b3e7f5918d598e8a16ac3df85a32);\n        \n    \n            var marker_10eea0b7f5841fb88f094554ba6371d2 = L.marker(\n                [34.63283416, -120.6107455],\n                {}\n            ).addTo(marker_cluster_4b85ecfc0d62af86f9851f39ae6f0715);\n        \n    \n            var icon_332b56e6b062fb063372a7688141b52f = L.AwesomeMarkers.icon(\n                {&quot;extraClasses&quot;: &quot;fa-rotate-0&quot;, &quot;icon&quot;: &quot;info-sign&quot;, &quot;iconColor&quot;: &quot;white&quot;, &quot;markerColor&quot;: &quot;red&quot;, &quot;prefix&quot;: &quot;glyphicon&quot;}\n            );\n            marker_10eea0b7f5841fb88f094554ba6371d2.setIcon(icon_332b56e6b062fb063372a7688141b52f);\n        \n    \n            var marker_60bfd1fad9daddc50d418914cdc48a90 = L.marker(\n                [34.63283416, -120.6107455],\n                {}\n            ).addTo(marker_cluster_4b85ecfc0d62af86f9851f39ae6f0715);\n        \n    \n            var icon_911985f7c911e38a0454490782cebae6 = L.AwesomeMarkers.icon(\n                {&quot;extraClasses&quot;: &quot;fa-rotate-0&quot;, &quot;icon&quot;: &quot;info-sign&quot;, &quot;iconColor&quot;: &quot;white&quot;, &quot;markerColor&quot;: &quot;red&quot;, &quot;prefix&quot;: &quot;glyphicon&quot;}\n            );\n            marker_60bfd1fad9daddc50d418914cdc48a90.setIcon(icon_911985f7c911e38a0454490782cebae6);\n        \n    \n            var marker_334eabbf9d8a42eefb308500b1a15350 = L.marker(\n                [34.63283416, -120.6107455],\n                {}\n            ).addTo(marker_cluster_4b85ecfc0d62af86f9851f39ae6f0715);\n        \n    \n            var icon_3025b72e1970e185a3f738c99b40a6df = L.AwesomeMarkers.icon(\n                {&quot;extraClasses&quot;: &quot;fa-rotate-0&quot;, &quot;icon&quot;: &quot;info-sign&quot;, &quot;iconColor&quot;: &quot;white&quot;, &quot;markerColor&quot;: &quot;red&quot;, &quot;prefix&quot;: &quot;glyphicon&quot;}\n            );\n            marker_334eabbf9d8a42eefb308500b1a15350.setIcon(icon_3025b72e1970e185a3f738c99b40a6df);\n        \n    \n            var marker_acaff36c68d4a59a77acaef1ffab6210 = L.marker(\n                [28.57325457, -80.64689529],\n                {}\n            ).addTo(marker_cluster_4b85ecfc0d62af86f9851f39ae6f0715);\n        \n    \n            var icon_300d161d6f65fb358e3c9310d3cf3320 = L.AwesomeMarkers.icon(\n                {&quot;extraClasses&quot;: &quot;fa-rotate-0&quot;, &quot;icon&quot;: &quot;info-sign&quot;, &quot;iconColor&quot;: &quot;white&quot;, &quot;markerColor&quot;: &quot;green&quot;, &quot;prefix&quot;: &quot;glyphicon&quot;}\n            );\n            marker_acaff36c68d4a59a77acaef1ffab6210.setIcon(icon_300d161d6f65fb358e3c9310d3cf3320);\n        \n    \n            var marker_41ee354e938ce9df8ee53a29a834bbac = L.marker(\n                [28.57325457, -80.64689529],\n                {}\n            ).addTo(marker_cluster_4b85ecfc0d62af86f9851f39ae6f0715);\n        \n    \n            var icon_aac3c1a5af7178cd11e75c849e1b43fa = L.AwesomeMarkers.icon(\n                {&quot;extraClasses&quot;: &quot;fa-rotate-0&quot;, &quot;icon&quot;: &quot;info-sign&quot;, &quot;iconColor&quot;: &quot;white&quot;, &quot;markerColor&quot;: &quot;red&quot;, &quot;prefix&quot;: &quot;glyphicon&quot;}\n            );\n            marker_41ee354e938ce9df8ee53a29a834bbac.setIcon(icon_aac3c1a5af7178cd11e75c849e1b43fa);\n        \n    \n            var marker_0520073bbbbbec5fd2ee1ae3f9b1fa68 = L.marker(\n                [28.57325457, -80.64689529],\n                {}\n            ).addTo(marker_cluster_4b85ecfc0d62af86f9851f39ae6f0715);\n        \n    \n            var icon_7b9e5a4a334b5fcb0b85f382fe35f9f0 = L.AwesomeMarkers.icon(\n                {&quot;extraClasses&quot;: &quot;fa-rotate-0&quot;, &quot;icon&quot;: &quot;info-sign&quot;, &quot;iconColor&quot;: &quot;white&quot;, &quot;markerColor&quot;: &quot;green&quot;, &quot;prefix&quot;: &quot;glyphicon&quot;}\n            );\n            marker_0520073bbbbbec5fd2ee1ae3f9b1fa68.setIcon(icon_7b9e5a4a334b5fcb0b85f382fe35f9f0);\n        \n    \n            var marker_de7a3bbe1b88dc9bb8af941002ba32a6 = L.marker(\n                [28.57325457, -80.64689529],\n                {}\n            ).addTo(marker_cluster_4b85ecfc0d62af86f9851f39ae6f0715);\n        \n    \n            var icon_87bd22932bf8d0e9109ab7d9135809bc = L.AwesomeMarkers.icon(\n                {&quot;extraClasses&quot;: &quot;fa-rotate-0&quot;, &quot;icon&quot;: &quot;info-sign&quot;, &quot;iconColor&quot;: &quot;white&quot;, &quot;markerColor&quot;: &quot;green&quot;, &quot;prefix&quot;: &quot;glyphicon&quot;}\n            );\n            marker_de7a3bbe1b88dc9bb8af941002ba32a6.setIcon(icon_87bd22932bf8d0e9109ab7d9135809bc);\n        \n    \n            var marker_9fa954e771a37ab5ac24c9b45928c9ba = L.marker(\n                [28.57325457, -80.64689529],\n                {}\n            ).addTo(marker_cluster_4b85ecfc0d62af86f9851f39ae6f0715);\n        \n    \n            var icon_46e751f9eee525513eea8e3c7490e05c = L.AwesomeMarkers.icon(\n                {&quot;extraClasses&quot;: &quot;fa-rotate-0&quot;, &quot;icon&quot;: &quot;info-sign&quot;, &quot;iconColor&quot;: &quot;white&quot;, &quot;markerColor&quot;: &quot;red&quot;, &quot;prefix&quot;: &quot;glyphicon&quot;}\n            );\n            marker_9fa954e771a37ab5ac24c9b45928c9ba.setIcon(icon_46e751f9eee525513eea8e3c7490e05c);\n        \n    \n            var marker_7cd8a809410927931e56134de7c0647d = L.marker(\n                [28.57325457, -80.64689529],\n                {}\n            ).addTo(marker_cluster_4b85ecfc0d62af86f9851f39ae6f0715);\n        \n    \n            var icon_9f542c4875a8bd25280df70323965a07 = L.AwesomeMarkers.icon(\n                {&quot;extraClasses&quot;: &quot;fa-rotate-0&quot;, &quot;icon&quot;: &quot;info-sign&quot;, &quot;iconColor&quot;: &quot;white&quot;, &quot;markerColor&quot;: &quot;green&quot;, &quot;prefix&quot;: &quot;glyphicon&quot;}\n            );\n            marker_7cd8a809410927931e56134de7c0647d.setIcon(icon_9f542c4875a8bd25280df70323965a07);\n        \n    \n            var marker_aa51b4643bfda8b9c5c4d15af4d95887 = L.marker(\n                [28.57325457, -80.64689529],\n                {}\n            ).addTo(marker_cluster_4b85ecfc0d62af86f9851f39ae6f0715);\n        \n    \n            var icon_510616e81caa50a2d60cf1315f65cc9b = L.AwesomeMarkers.icon(\n                {&quot;extraClasses&quot;: &quot;fa-rotate-0&quot;, &quot;icon&quot;: &quot;info-sign&quot;, &quot;iconColor&quot;: &quot;white&quot;, &quot;markerColor&quot;: &quot;green&quot;, &quot;prefix&quot;: &quot;glyphicon&quot;}\n            );\n            marker_aa51b4643bfda8b9c5c4d15af4d95887.setIcon(icon_510616e81caa50a2d60cf1315f65cc9b);\n        \n    \n            var marker_f4aa55a9c108d3b4bfe9e4ae7bd635fd = L.marker(\n                [28.57325457, -80.64689529],\n                {}\n            ).addTo(marker_cluster_4b85ecfc0d62af86f9851f39ae6f0715);\n        \n    \n            var icon_017873f9d91d2675c894b9b902995456 = L.AwesomeMarkers.icon(\n                {&quot;extraClasses&quot;: &quot;fa-rotate-0&quot;, &quot;icon&quot;: &quot;info-sign&quot;, &quot;iconColor&quot;: &quot;white&quot;, &quot;markerColor&quot;: &quot;red&quot;, &quot;prefix&quot;: &quot;glyphicon&quot;}\n            );\n            marker_f4aa55a9c108d3b4bfe9e4ae7bd635fd.setIcon(icon_017873f9d91d2675c894b9b902995456);\n        \n    \n            var marker_2649ebfd3059ce59d9a671ad4c1d7b78 = L.marker(\n                [28.57325457, -80.64689529],\n                {}\n            ).addTo(marker_cluster_4b85ecfc0d62af86f9851f39ae6f0715);\n        \n    \n            var icon_77c94f5cd1af54bf91dee485034b518b = L.AwesomeMarkers.icon(\n                {&quot;extraClasses&quot;: &quot;fa-rotate-0&quot;, &quot;icon&quot;: &quot;info-sign&quot;, &quot;iconColor&quot;: &quot;white&quot;, &quot;markerColor&quot;: &quot;green&quot;, &quot;prefix&quot;: &quot;glyphicon&quot;}\n            );\n            marker_2649ebfd3059ce59d9a671ad4c1d7b78.setIcon(icon_77c94f5cd1af54bf91dee485034b518b);\n        \n    \n            var marker_d77b83ab53a32e6985ae34cd87657ad8 = L.marker(\n                [28.57325457, -80.64689529],\n                {}\n            ).addTo(marker_cluster_4b85ecfc0d62af86f9851f39ae6f0715);\n        \n    \n            var icon_a502f5af042d91f876c19a17c9831926 = L.AwesomeMarkers.icon(\n                {&quot;extraClasses&quot;: &quot;fa-rotate-0&quot;, &quot;icon&quot;: &quot;info-sign&quot;, &quot;iconColor&quot;: &quot;white&quot;, &quot;markerColor&quot;: &quot;green&quot;, &quot;prefix&quot;: &quot;glyphicon&quot;}\n            );\n            marker_d77b83ab53a32e6985ae34cd87657ad8.setIcon(icon_a502f5af042d91f876c19a17c9831926);\n        \n    \n            var marker_f1f646006c82c601f81c016aa2b9222c = L.marker(\n                [28.57325457, -80.64689529],\n                {}\n            ).addTo(marker_cluster_4b85ecfc0d62af86f9851f39ae6f0715);\n        \n    \n            var icon_0525ce4ad2f84194bebf6c1bcc8b13a2 = L.AwesomeMarkers.icon(\n                {&quot;extraClasses&quot;: &quot;fa-rotate-0&quot;, &quot;icon&quot;: &quot;info-sign&quot;, &quot;iconColor&quot;: &quot;white&quot;, &quot;markerColor&quot;: &quot;green&quot;, &quot;prefix&quot;: &quot;glyphicon&quot;}\n            );\n            marker_f1f646006c82c601f81c016aa2b9222c.setIcon(icon_0525ce4ad2f84194bebf6c1bcc8b13a2);\n        \n    \n            var marker_ccf7b1ff982eed4b8638277509a5000c = L.marker(\n                [28.57325457, -80.64689529],\n                {}\n            ).addTo(marker_cluster_4b85ecfc0d62af86f9851f39ae6f0715);\n        \n    \n            var icon_582cf7ec169f5e91bccc11998038c5d4 = L.AwesomeMarkers.icon(\n                {&quot;extraClasses&quot;: &quot;fa-rotate-0&quot;, &quot;icon&quot;: &quot;info-sign&quot;, &quot;iconColor&quot;: &quot;white&quot;, &quot;markerColor&quot;: &quot;green&quot;, &quot;prefix&quot;: &quot;glyphicon&quot;}\n            );\n            marker_ccf7b1ff982eed4b8638277509a5000c.setIcon(icon_582cf7ec169f5e91bccc11998038c5d4);\n        \n    \n            var marker_0e91d7fde0927be1ef88cec75626a8af = L.marker(\n                [28.57325457, -80.64689529],\n                {}\n            ).addTo(marker_cluster_4b85ecfc0d62af86f9851f39ae6f0715);\n        \n    \n            var icon_19618b0aec1fe0d7c732c4e2a114e4ce = L.AwesomeMarkers.icon(\n                {&quot;extraClasses&quot;: &quot;fa-rotate-0&quot;, &quot;icon&quot;: &quot;info-sign&quot;, &quot;iconColor&quot;: &quot;white&quot;, &quot;markerColor&quot;: &quot;green&quot;, &quot;prefix&quot;: &quot;glyphicon&quot;}\n            );\n            marker_0e91d7fde0927be1ef88cec75626a8af.setIcon(icon_19618b0aec1fe0d7c732c4e2a114e4ce);\n        \n    \n            var marker_984f732a8bd50a86a9b8296ae536c423 = L.marker(\n                [28.56319718, -80.57682003],\n                {}\n            ).addTo(marker_cluster_4b85ecfc0d62af86f9851f39ae6f0715);\n        \n    \n            var icon_b9b5da2a47c3c8805a780b7ebb06f25c = L.AwesomeMarkers.icon(\n                {&quot;extraClasses&quot;: &quot;fa-rotate-0&quot;, &quot;icon&quot;: &quot;info-sign&quot;, &quot;iconColor&quot;: &quot;white&quot;, &quot;markerColor&quot;: &quot;green&quot;, &quot;prefix&quot;: &quot;glyphicon&quot;}\n            );\n            marker_984f732a8bd50a86a9b8296ae536c423.setIcon(icon_b9b5da2a47c3c8805a780b7ebb06f25c);\n        \n    \n            var marker_24c435bd2f456d5b9ec866f6d1efd912 = L.marker(\n                [28.56319718, -80.57682003],\n                {}\n            ).addTo(marker_cluster_4b85ecfc0d62af86f9851f39ae6f0715);\n        \n    \n            var icon_6389b9bdaf15d69a73454dc973e14eaf = L.AwesomeMarkers.icon(\n                {&quot;extraClasses&quot;: &quot;fa-rotate-0&quot;, &quot;icon&quot;: &quot;info-sign&quot;, &quot;iconColor&quot;: &quot;white&quot;, &quot;markerColor&quot;: &quot;green&quot;, &quot;prefix&quot;: &quot;glyphicon&quot;}\n            );\n            marker_24c435bd2f456d5b9ec866f6d1efd912.setIcon(icon_6389b9bdaf15d69a73454dc973e14eaf);\n        \n    \n            var marker_0376a303bb6b25a04face66ac48680f7 = L.marker(\n                [28.56319718, -80.57682003],\n                {}\n            ).addTo(marker_cluster_4b85ecfc0d62af86f9851f39ae6f0715);\n        \n    \n            var icon_434fd7ce0ae057b88e0be8f58d80f5c5 = L.AwesomeMarkers.icon(\n                {&quot;extraClasses&quot;: &quot;fa-rotate-0&quot;, &quot;icon&quot;: &quot;info-sign&quot;, &quot;iconColor&quot;: &quot;white&quot;, &quot;markerColor&quot;: &quot;red&quot;, &quot;prefix&quot;: &quot;glyphicon&quot;}\n            );\n            marker_0376a303bb6b25a04face66ac48680f7.setIcon(icon_434fd7ce0ae057b88e0be8f58d80f5c5);\n        \n    \n            var marker_bab46b9cc06550487ad1efe3b9496aa5 = L.marker(\n                [28.56319718, -80.57682003],\n                {}\n            ).addTo(marker_cluster_4b85ecfc0d62af86f9851f39ae6f0715);\n        \n    \n            var icon_f8fb08deba867b698f868ed1b73e1dab = L.AwesomeMarkers.icon(\n                {&quot;extraClasses&quot;: &quot;fa-rotate-0&quot;, &quot;icon&quot;: &quot;info-sign&quot;, &quot;iconColor&quot;: &quot;white&quot;, &quot;markerColor&quot;: &quot;red&quot;, &quot;prefix&quot;: &quot;glyphicon&quot;}\n            );\n            marker_bab46b9cc06550487ad1efe3b9496aa5.setIcon(icon_f8fb08deba867b698f868ed1b73e1dab);\n        \n    \n            var marker_019c8bdf49bbdd445be1ce06d1d4fcbb = L.marker(\n                [28.56319718, -80.57682003],\n                {}\n            ).addTo(marker_cluster_4b85ecfc0d62af86f9851f39ae6f0715);\n        \n    \n            var icon_11d67465a733fcc38853430b40f9d22c = L.AwesomeMarkers.icon(\n                {&quot;extraClasses&quot;: &quot;fa-rotate-0&quot;, &quot;icon&quot;: &quot;info-sign&quot;, &quot;iconColor&quot;: &quot;white&quot;, &quot;markerColor&quot;: &quot;red&quot;, &quot;prefix&quot;: &quot;glyphicon&quot;}\n            );\n            marker_019c8bdf49bbdd445be1ce06d1d4fcbb.setIcon(icon_11d67465a733fcc38853430b40f9d22c);\n        \n    \n            var marker_cff3bfee88ea2e4ed1d653d2996fa0d9 = L.marker(\n                [28.56319718, -80.57682003],\n                {}\n            ).addTo(marker_cluster_4b85ecfc0d62af86f9851f39ae6f0715);\n        \n    \n            var icon_575ab5d115fe8bbde91ffdcbe2cdb811 = L.AwesomeMarkers.icon(\n                {&quot;extraClasses&quot;: &quot;fa-rotate-0&quot;, &quot;icon&quot;: &quot;info-sign&quot;, &quot;iconColor&quot;: &quot;white&quot;, &quot;markerColor&quot;: &quot;green&quot;, &quot;prefix&quot;: &quot;glyphicon&quot;}\n            );\n            marker_cff3bfee88ea2e4ed1d653d2996fa0d9.setIcon(icon_575ab5d115fe8bbde91ffdcbe2cdb811);\n        \n    \n            var marker_a62acc281b5fef0f098cc508f877868b = L.marker(\n                [28.56319718, -80.57682003],\n                {}\n            ).addTo(marker_cluster_4b85ecfc0d62af86f9851f39ae6f0715);\n        \n    \n            var icon_bc09b3950b680491e60a846bbb4e3624 = L.AwesomeMarkers.icon(\n                {&quot;extraClasses&quot;: &quot;fa-rotate-0&quot;, &quot;icon&quot;: &quot;info-sign&quot;, &quot;iconColor&quot;: &quot;white&quot;, &quot;markerColor&quot;: &quot;red&quot;, &quot;prefix&quot;: &quot;glyphicon&quot;}\n            );\n            marker_a62acc281b5fef0f098cc508f877868b.setIcon(icon_bc09b3950b680491e60a846bbb4e3624);\n        \n    \n            marker_cluster_4b85ecfc0d62af86f9851f39ae6f0715.addTo(map_3eeacea75806a21cc2d0a9250f46c8ff);\n        \n    \n            tile_layer_2d9213896cedf01616b1ffc71a3fa557.addTo(map_3eeacea75806a21cc2d0a9250f46c8ff);\n        \n    \n            marker_cluster_4b85ecfc0d62af86f9851f39ae6f0715.addTo(map_3eeacea75806a21cc2d0a9250f46c8ff);\n        \n    \n            var mouse_position_9370e2dcc093be98653dac6c65594494 = new L.Control.MousePosition(\n                {&quot;emptyString&quot;: &quot;NaN&quot;, &quot;lngFirst&quot;: false, &quot;numDigits&quot;: 20, &quot;position&quot;: &quot;topright&quot;, &quot;prefix&quot;: &quot;Lat:&quot;, &quot;separator&quot;: &quot; Long: &quot;}\n            );\n            mouse_position_9370e2dcc093be98653dac6c65594494.options[&quot;latFormatter&quot;] =\n                function(num) {return L.Util.formatNum(num, 5);};;\n            mouse_position_9370e2dcc093be98653dac6c65594494.options[&quot;lngFormatter&quot;] =\n                function(num) {return L.Util.formatNum(num, 5);};;\n            map_3eeacea75806a21cc2d0a9250f46c8ff.addControl(mouse_position_9370e2dcc093be98653dac6c65594494);\n        \n    \n            tile_layer_2d9213896cedf01616b1ffc71a3fa557.addTo(map_3eeacea75806a21cc2d0a9250f46c8ff);\n        \n    \n            marker_cluster_4b85ecfc0d62af86f9851f39ae6f0715.addTo(map_3eeacea75806a21cc2d0a9250f46c8ff);\n        \n    \n            var marker_d25c09b140b10041ae34ca30b25d7ec8 = L.marker(\n                [28.56327, -80.56789],\n                {}\n            ).addTo(map_3eeacea75806a21cc2d0a9250f46c8ff);\n        \n    \n            var div_icon_b20dea93a6ba0f579720c6f3df1cc178 = L.divIcon({&quot;className&quot;: &quot;empty&quot;, &quot;html&quot;: &quot;\\u003cdiv style=\\&quot;font-size: 12; color:#d35400;\\&quot;\\u003e\\u003cb\\u003e      0.87 KM\\u003c/b\\u003e\\u003c/div\\u003e&quot;, &quot;iconAnchor&quot;: [0, 0], &quot;iconSize&quot;: [20, 20]});\n            marker_d25c09b140b10041ae34ca30b25d7ec8.setIcon(div_icon_b20dea93a6ba0f579720c6f3df1cc178);\n        \n&lt;/script&gt;\n&lt;/html&gt;\" style=\"position:absolute;width:100%;height:100%;left:0;top:0;border:none !important;\" allowfullscreen webkitallowfullscreen mozallowfullscreen></iframe></div></div>"
     },
     "metadata": {}
    }
   ],
   "execution_count": 39
  },
  {
   "cell_type": "code",
   "execution_count": null,
   "outputs": [],
   "source": [
    "# Create and add a folium.Marker on your selected closest coastline point on the map\n",
    "# Display the distance between coastline point and launch site using the icon property \n",
    "# for example\n",
    "coordinate = [28.56327, -80.56789]\n",
    "distance_marker = folium.Marker(\n",
    "    coordinate,\n",
    "    icon=DivIcon(\n",
    "        icon_size=(20,20),\n",
    "        icon_anchor=(0,0),\n",
    "        html='<div style=\"font-size: 12; color:#d35400;\"><b>%s</b></div>' % \"{:10.2f} KM\".format(distance_coastline),\n",
    "       )\n",
    "   )\n",
    "site_map.add_child(distance_marker)\n",
    "site_map"
   ],
   "metadata": {
    "collapsed": false
   }
  },
  {
   "cell_type": "markdown",
   "source": [
    "*TODO:* Draw a `PolyLine` between a launch site to the selected coastline point\n"
   ],
   "metadata": {
    "collapsed": false
   }
  },
  {
   "cell_type": "code",
   "execution_count": null,
   "outputs": [],
   "source": [
    "# Create a `folium.PolyLine` object using the coastline coordinates and launch site coordinate\n",
    "lines=folium.PolyLine(locations=[[28.563197, -80.576820], [28.56327, -80.56789]], weight=1)\n",
    "site_map.add_child(lines)\n",
    "site_map"
   ],
   "metadata": {
    "collapsed": false
   }
  },
  {
   "cell_type": "markdown",
   "source": [
    "Your updated map with distance line should look like the following screenshot:\n"
   ],
   "metadata": {}
  },
  {
   "cell_type": "markdown",
   "source": [
    "<center>\n",
    "    <img src=\"https://cf-courses-data.s3.us.cloud-object-storage.appdomain.cloud/IBM-DS0321EN-SkillsNetwork/labs/module_3/images/launch_site_marker_distance.png\">\n",
    "</center>\n"
   ],
   "metadata": {}
  },
  {
   "cell_type": "markdown",
   "source": [
    "*TODO:* Similarly, you can draw a line betwee a launch site to its closest city, railway, highway, etc. You need to use `MousePosition` to find the their coordinates on the map first\n"
   ],
   "metadata": {}
  },
  {
   "cell_type": "markdown",
   "source": [
    "A railway map symbol may look like this:\n"
   ],
   "metadata": {}
  },
  {
   "cell_type": "markdown",
   "source": [
    "<center>\n",
    "    <img src=\"https://cf-courses-data.s3.us.cloud-object-storage.appdomain.cloud/IBM-DS0321EN-SkillsNetwork/labs/module_3/images/railway.png\">\n",
    "</center>\n"
   ],
   "metadata": {}
  },
  {
   "cell_type": "markdown",
   "source": [
    "A highway map symbol may look like this:\n"
   ],
   "metadata": {}
  },
  {
   "cell_type": "markdown",
   "source": [
    "<center>\n",
    "    <img src=\"https://cf-courses-data.s3.us.cloud-object-storage.appdomain.cloud/IBM-DS0321EN-SkillsNetwork/labs/module_3/images/highway.png\">\n",
    "</center>\n"
   ],
   "metadata": {}
  },
  {
   "cell_type": "markdown",
   "source": [
    "A city map symbol may look like this:\n"
   ],
   "metadata": {}
  },
  {
   "cell_type": "markdown",
   "source": [
    "<center>\n",
    "    <img src=\"https://cf-courses-data.s3.us.cloud-object-storage.appdomain.cloud/IBM-DS0321EN-SkillsNetwork/labs/module_3/images/city.png\">\n",
    "</center>\n"
   ],
   "metadata": {
    "collapsed": false
   }
  },
  {
   "cell_type": "code",
   "source": [
    "# Create a marker with distance to a closest city, railway, highway, etc.\n",
    "# Draw a line between the marker to the launch site\n"
   ],
   "metadata": {
    "trusted": true
   },
   "outputs": [
    {
     "execution_count": 41,
     "output_type": "execute_result",
     "data": {
      "text/plain": "0.5920157384186266"
     },
     "metadata": {}
    }
   ],
   "execution_count": 41
  },
  {
   "cell_type": "code",
   "execution_count": null,
   "outputs": [],
   "source": [
    "# find coordinate of the closet coastline\n",
    "# e.g.,: Lat: 28.56367  Lon: -80.57163\n",
    "distance_highway = calculate_distance(28.563197, -80.576820, 28.56321, -80.57076)\n",
    "distance_highway"
   ],
   "metadata": {
    "collapsed": false
   }
  },
  {
   "cell_type": "markdown",
   "source": [
    "### Create distance marker to the nearest highway"
   ],
   "metadata": {
    "collapsed": false
   }
  },
  {
   "cell_type": "code",
   "source": [
    "# Create and add a folium.Marker on your selected closest coastline point on the map\n",
    "# Display the distance between coastline point and launch site using the icon property \n",
    "# for example\n",
    "coordinate = [28.56321, -80.57076]\n",
    "distance_marker = folium.Marker(\n",
    "    coordinate,\n",
    "    icon=DivIcon(\n",
    "        icon_size=(20,20),\n",
    "        icon_anchor=(0,0),\n",
    "        html='<div style=\"font-size: 12; color:#d35400;\"><b>%s</b></div>' % \"{:10.2f} KM\".format(distance_highway),\n",
    "       )\n",
    "   )\n",
    "site_map.add_child(distance_marker)\n",
    "site_map"
   ],
   "metadata": {
    "trusted": true
   },
   "outputs": [
    {
     "execution_count": 44,
     "output_type": "execute_result",
     "data": {
      "text/plain": "<folium.folium.Map at 0x5b8c528>",
      "text/html": "<div style=\"width:100%;\"><div style=\"position:relative;width:100%;height:0;padding-bottom:60%;\"><span style=\"color:#565656\">Make this Notebook Trusted to load map: File -> Trust Notebook</span><iframe srcdoc=\"&lt;!DOCTYPE html&gt;\n&lt;html&gt;\n&lt;head&gt;\n    \n    &lt;meta http-equiv=&quot;content-type&quot; content=&quot;text/html; charset=UTF-8&quot; /&gt;\n    \n        &lt;script&gt;\n            L_NO_TOUCH = false;\n            L_DISABLE_3D = false;\n        &lt;/script&gt;\n    \n    &lt;style&gt;html, body {width: 100%;height: 100%;margin: 0;padding: 0;}&lt;/style&gt;\n    &lt;style&gt;#map {position:absolute;top:0;bottom:0;right:0;left:0;}&lt;/style&gt;\n    &lt;script src=&quot;https://cdn.jsdelivr.net/npm/leaflet@1.9.3/dist/leaflet.js&quot;&gt;&lt;/script&gt;\n    &lt;script src=&quot;https://code.jquery.com/jquery-3.7.1.min.js&quot;&gt;&lt;/script&gt;\n    &lt;script src=&quot;https://cdn.jsdelivr.net/npm/bootstrap@5.2.2/dist/js/bootstrap.bundle.min.js&quot;&gt;&lt;/script&gt;\n    &lt;script src=&quot;https://cdnjs.cloudflare.com/ajax/libs/Leaflet.awesome-markers/2.0.2/leaflet.awesome-markers.js&quot;&gt;&lt;/script&gt;\n    &lt;link rel=&quot;stylesheet&quot; href=&quot;https://cdn.jsdelivr.net/npm/leaflet@1.9.3/dist/leaflet.css&quot;/&gt;\n    &lt;link rel=&quot;stylesheet&quot; href=&quot;https://cdn.jsdelivr.net/npm/bootstrap@5.2.2/dist/css/bootstrap.min.css&quot;/&gt;\n    &lt;link rel=&quot;stylesheet&quot; href=&quot;https://netdna.bootstrapcdn.com/bootstrap/3.0.0/css/bootstrap.min.css&quot;/&gt;\n    &lt;link rel=&quot;stylesheet&quot; href=&quot;https://cdn.jsdelivr.net/npm/@fortawesome/fontawesome-free@6.2.0/css/all.min.css&quot;/&gt;\n    &lt;link rel=&quot;stylesheet&quot; href=&quot;https://cdnjs.cloudflare.com/ajax/libs/Leaflet.awesome-markers/2.0.2/leaflet.awesome-markers.css&quot;/&gt;\n    &lt;link rel=&quot;stylesheet&quot; href=&quot;https://cdn.jsdelivr.net/gh/python-visualization/folium/folium/templates/leaflet.awesome.rotate.min.css&quot;/&gt;\n    \n            &lt;meta name=&quot;viewport&quot; content=&quot;width=device-width,\n                initial-scale=1.0, maximum-scale=1.0, user-scalable=no&quot; /&gt;\n            &lt;style&gt;\n                #map_3eeacea75806a21cc2d0a9250f46c8ff {\n                    position: relative;\n                    width: 100.0%;\n                    height: 100.0%;\n                    left: 0.0%;\n                    top: 0.0%;\n                }\n                .leaflet-container { font-size: 1rem; }\n            &lt;/style&gt;\n        \n    &lt;script src=&quot;https://cdnjs.cloudflare.com/ajax/libs/leaflet.markercluster/1.1.0/leaflet.markercluster.js&quot;&gt;&lt;/script&gt;\n    &lt;link rel=&quot;stylesheet&quot; href=&quot;https://cdnjs.cloudflare.com/ajax/libs/leaflet.markercluster/1.1.0/MarkerCluster.css&quot;/&gt;\n    &lt;link rel=&quot;stylesheet&quot; href=&quot;https://cdnjs.cloudflare.com/ajax/libs/leaflet.markercluster/1.1.0/MarkerCluster.Default.css&quot;/&gt;\n    &lt;script src=&quot;https://cdn.jsdelivr.net/gh/ardhi/Leaflet.MousePosition/src/L.Control.MousePosition.min.js&quot;&gt;&lt;/script&gt;\n    &lt;link rel=&quot;stylesheet&quot; href=&quot;https://cdn.jsdelivr.net/gh/ardhi/Leaflet.MousePosition/src/L.Control.MousePosition.min.css&quot;/&gt;\n&lt;/head&gt;\n&lt;body&gt;\n    \n    \n            &lt;div class=&quot;folium-map&quot; id=&quot;map_3eeacea75806a21cc2d0a9250f46c8ff&quot; &gt;&lt;/div&gt;\n        \n&lt;/body&gt;\n&lt;script&gt;\n    \n    \n            var map_3eeacea75806a21cc2d0a9250f46c8ff = L.map(\n                &quot;map_3eeacea75806a21cc2d0a9250f46c8ff&quot;,\n                {\n                    center: [29.559684888503615, -95.0830971930759],\n                    crs: L.CRS.EPSG3857,\n                    zoom: 5,\n                    zoomControl: true,\n                    preferCanvas: false,\n                }\n            );\n\n            \n\n        \n    \n            var tile_layer_2d9213896cedf01616b1ffc71a3fa557 = L.tileLayer(\n                &quot;https://tile.openstreetmap.org/{z}/{x}/{y}.png&quot;,\n                {&quot;attribution&quot;: &quot;\\u0026copy; \\u003ca href=\\&quot;https://www.openstreetmap.org/copyright\\&quot;\\u003eOpenStreetMap\\u003c/a\\u003e contributors&quot;, &quot;detectRetina&quot;: false, &quot;maxNativeZoom&quot;: 19, &quot;maxZoom&quot;: 19, &quot;minZoom&quot;: 0, &quot;noWrap&quot;: false, &quot;opacity&quot;: 1, &quot;subdomains&quot;: &quot;abc&quot;, &quot;tms&quot;: false}\n            );\n        \n    \n            tile_layer_2d9213896cedf01616b1ffc71a3fa557.addTo(map_3eeacea75806a21cc2d0a9250f46c8ff);\n        \n    \n            var circle_7c815a45d14f2b29267634a31f08f012 = L.circle(\n                [28.56230197, -80.57735648],\n                {&quot;bubblingMouseEvents&quot;: true, &quot;color&quot;: &quot;#d35400&quot;, &quot;dashArray&quot;: null, &quot;dashOffset&quot;: null, &quot;fill&quot;: true, &quot;fillColor&quot;: &quot;#d35400&quot;, &quot;fillOpacity&quot;: 0.2, &quot;fillRule&quot;: &quot;evenodd&quot;, &quot;lineCap&quot;: &quot;round&quot;, &quot;lineJoin&quot;: &quot;round&quot;, &quot;opacity&quot;: 1.0, &quot;radius&quot;: 100, &quot;stroke&quot;: true, &quot;weight&quot;: 3}\n            ).addTo(map_3eeacea75806a21cc2d0a9250f46c8ff);\n        \n    \n        var popup_4af8c27ea5a9cc3f7206be1d147097e1 = L.popup({&quot;maxWidth&quot;: &quot;100%&quot;});\n\n        \n            \n                var html_3c52e7f42296f7328d5a6cdf04abb343 = $(`&lt;div id=&quot;html_3c52e7f42296f7328d5a6cdf04abb343&quot; style=&quot;width: 100.0%; height: 100.0%;&quot;&gt;CCAFS LC-40&lt;/div&gt;`)[0];\n                popup_4af8c27ea5a9cc3f7206be1d147097e1.setContent(html_3c52e7f42296f7328d5a6cdf04abb343);\n            \n        \n\n        circle_7c815a45d14f2b29267634a31f08f012.bindPopup(popup_4af8c27ea5a9cc3f7206be1d147097e1)\n        ;\n\n        \n    \n    \n            var marker_a495b11a1762b4443e0fc366cba2216e = L.marker(\n                [28.56230197, -80.57735648],\n                {}\n            ).addTo(map_3eeacea75806a21cc2d0a9250f46c8ff);\n        \n    \n            var div_icon_3f3c1177300b12be486e8b1492eae6da = L.divIcon({&quot;className&quot;: &quot;empty&quot;, &quot;html&quot;: &quot;\\u003cdiv style=\\&quot;font-size: 10; color:#d35400;\\&quot;\\u003e\\u003cb\\u003eCCAFS LC-40\\u003c/b\\u003e\\u003c/div\\u003e&quot;, &quot;iconAnchor&quot;: [0, 0], &quot;iconSize&quot;: [10, 10]});\n            marker_a495b11a1762b4443e0fc366cba2216e.setIcon(div_icon_3f3c1177300b12be486e8b1492eae6da);\n        \n    \n            var circle_57486083c47e8ffebf3a90ff1c2571d1 = L.circle(\n                [28.56319718, -80.57682003],\n                {&quot;bubblingMouseEvents&quot;: true, &quot;color&quot;: &quot;#d35400&quot;, &quot;dashArray&quot;: null, &quot;dashOffset&quot;: null, &quot;fill&quot;: true, &quot;fillColor&quot;: &quot;#d35400&quot;, &quot;fillOpacity&quot;: 0.2, &quot;fillRule&quot;: &quot;evenodd&quot;, &quot;lineCap&quot;: &quot;round&quot;, &quot;lineJoin&quot;: &quot;round&quot;, &quot;opacity&quot;: 1.0, &quot;radius&quot;: 100, &quot;stroke&quot;: true, &quot;weight&quot;: 3}\n            ).addTo(map_3eeacea75806a21cc2d0a9250f46c8ff);\n        \n    \n        var popup_04f4710a9e2b3101be34cf39757bf370 = L.popup({&quot;maxWidth&quot;: &quot;100%&quot;});\n\n        \n            \n                var html_a28d9ebd8ab306cdca280cf669c1eaea = $(`&lt;div id=&quot;html_a28d9ebd8ab306cdca280cf669c1eaea&quot; style=&quot;width: 100.0%; height: 100.0%;&quot;&gt;CCAFS SLC-40&lt;/div&gt;`)[0];\n                popup_04f4710a9e2b3101be34cf39757bf370.setContent(html_a28d9ebd8ab306cdca280cf669c1eaea);\n            \n        \n\n        circle_57486083c47e8ffebf3a90ff1c2571d1.bindPopup(popup_04f4710a9e2b3101be34cf39757bf370)\n        ;\n\n        \n    \n    \n            var marker_a724a715feb8cefe14febfe011785d02 = L.marker(\n                [28.56319718, -80.57682003],\n                {}\n            ).addTo(map_3eeacea75806a21cc2d0a9250f46c8ff);\n        \n    \n            var div_icon_8956240ca2011ce16e8a04da3d928ec7 = L.divIcon({&quot;className&quot;: &quot;empty&quot;, &quot;html&quot;: &quot;\\u003cdiv style=\\&quot;font-size: 10; color:#d35400;\\&quot;\\u003e\\u003cb\\u003eCCAFS SLC-40\\u003c/b\\u003e\\u003c/div\\u003e&quot;, &quot;iconAnchor&quot;: [0, 0], &quot;iconSize&quot;: [10, 10]});\n            marker_a724a715feb8cefe14febfe011785d02.setIcon(div_icon_8956240ca2011ce16e8a04da3d928ec7);\n        \n    \n            var circle_f6a1a3b09fd611e15954f48190e18ff1 = L.circle(\n                [28.57325457, -80.64689529],\n                {&quot;bubblingMouseEvents&quot;: true, &quot;color&quot;: &quot;#d35400&quot;, &quot;dashArray&quot;: null, &quot;dashOffset&quot;: null, &quot;fill&quot;: true, &quot;fillColor&quot;: &quot;#d35400&quot;, &quot;fillOpacity&quot;: 0.2, &quot;fillRule&quot;: &quot;evenodd&quot;, &quot;lineCap&quot;: &quot;round&quot;, &quot;lineJoin&quot;: &quot;round&quot;, &quot;opacity&quot;: 1.0, &quot;radius&quot;: 100, &quot;stroke&quot;: true, &quot;weight&quot;: 3}\n            ).addTo(map_3eeacea75806a21cc2d0a9250f46c8ff);\n        \n    \n        var popup_b9f9f62c15fc2b0ff209259a712ab5db = L.popup({&quot;maxWidth&quot;: &quot;100%&quot;});\n\n        \n            \n                var html_dbb806040dc7b419cb25ceed98f84f43 = $(`&lt;div id=&quot;html_dbb806040dc7b419cb25ceed98f84f43&quot; style=&quot;width: 100.0%; height: 100.0%;&quot;&gt;KSC LC-39A&lt;/div&gt;`)[0];\n                popup_b9f9f62c15fc2b0ff209259a712ab5db.setContent(html_dbb806040dc7b419cb25ceed98f84f43);\n            \n        \n\n        circle_f6a1a3b09fd611e15954f48190e18ff1.bindPopup(popup_b9f9f62c15fc2b0ff209259a712ab5db)\n        ;\n\n        \n    \n    \n            var marker_862144b451de293221c516f4836b8c2c = L.marker(\n                [28.57325457, -80.64689529],\n                {}\n            ).addTo(map_3eeacea75806a21cc2d0a9250f46c8ff);\n        \n    \n            var div_icon_c5dc6415625bdd625302a5a6a9a4ec83 = L.divIcon({&quot;className&quot;: &quot;empty&quot;, &quot;html&quot;: &quot;\\u003cdiv style=\\&quot;font-size: 10; color:#d35400;\\&quot;\\u003e\\u003cb\\u003eKSC LC-39A\\u003c/b\\u003e\\u003c/div\\u003e&quot;, &quot;iconAnchor&quot;: [0, 0], &quot;iconSize&quot;: [10, 10]});\n            marker_862144b451de293221c516f4836b8c2c.setIcon(div_icon_c5dc6415625bdd625302a5a6a9a4ec83);\n        \n    \n            var circle_59a1733e2cb579c9c52f824d769d950b = L.circle(\n                [34.63283416, -120.6107455],\n                {&quot;bubblingMouseEvents&quot;: true, &quot;color&quot;: &quot;#d35400&quot;, &quot;dashArray&quot;: null, &quot;dashOffset&quot;: null, &quot;fill&quot;: true, &quot;fillColor&quot;: &quot;#d35400&quot;, &quot;fillOpacity&quot;: 0.2, &quot;fillRule&quot;: &quot;evenodd&quot;, &quot;lineCap&quot;: &quot;round&quot;, &quot;lineJoin&quot;: &quot;round&quot;, &quot;opacity&quot;: 1.0, &quot;radius&quot;: 100, &quot;stroke&quot;: true, &quot;weight&quot;: 3}\n            ).addTo(map_3eeacea75806a21cc2d0a9250f46c8ff);\n        \n    \n        var popup_d22bfe5403b919c6dd449ce85dc61d14 = L.popup({&quot;maxWidth&quot;: &quot;100%&quot;});\n\n        \n            \n                var html_b363ff2ff0a280a64a14bbb1d09a3203 = $(`&lt;div id=&quot;html_b363ff2ff0a280a64a14bbb1d09a3203&quot; style=&quot;width: 100.0%; height: 100.0%;&quot;&gt;VAFB SLC-4E&lt;/div&gt;`)[0];\n                popup_d22bfe5403b919c6dd449ce85dc61d14.setContent(html_b363ff2ff0a280a64a14bbb1d09a3203);\n            \n        \n\n        circle_59a1733e2cb579c9c52f824d769d950b.bindPopup(popup_d22bfe5403b919c6dd449ce85dc61d14)\n        ;\n\n        \n    \n    \n            var marker_0504419a0b5493a0147e2a4c8a271ead = L.marker(\n                [34.63283416, -120.6107455],\n                {}\n            ).addTo(map_3eeacea75806a21cc2d0a9250f46c8ff);\n        \n    \n            var div_icon_39cc3561681139527f61f30423359875 = L.divIcon({&quot;className&quot;: &quot;empty&quot;, &quot;html&quot;: &quot;\\u003cdiv style=\\&quot;font-size: 10; color:#d35400;\\&quot;\\u003e\\u003cb\\u003eVAFB SLC-4E\\u003c/b\\u003e\\u003c/div\\u003e&quot;, &quot;iconAnchor&quot;: [0, 0], &quot;iconSize&quot;: [10, 10]});\n            marker_0504419a0b5493a0147e2a4c8a271ead.setIcon(div_icon_39cc3561681139527f61f30423359875);\n        \n    \n            tile_layer_2d9213896cedf01616b1ffc71a3fa557.addTo(map_3eeacea75806a21cc2d0a9250f46c8ff);\n        \n    \n            var marker_cluster_4b85ecfc0d62af86f9851f39ae6f0715 = L.markerClusterGroup(\n                {}\n            );\n        \n    \n            var marker_aa868233d27e6fdeaebe7e2c0b0afd71 = L.marker(\n                [28.56230197, -80.57735648],\n                {}\n            ).addTo(marker_cluster_4b85ecfc0d62af86f9851f39ae6f0715);\n        \n    \n            var icon_827b91af6e8f87a814a18e71b1a645e6 = L.AwesomeMarkers.icon(\n                {&quot;extraClasses&quot;: &quot;fa-rotate-0&quot;, &quot;icon&quot;: &quot;info-sign&quot;, &quot;iconColor&quot;: &quot;white&quot;, &quot;markerColor&quot;: &quot;red&quot;, &quot;prefix&quot;: &quot;glyphicon&quot;}\n            );\n            marker_aa868233d27e6fdeaebe7e2c0b0afd71.setIcon(icon_827b91af6e8f87a814a18e71b1a645e6);\n        \n    \n            var marker_45c2ca8d20b4e819f7cdea150ef4e832 = L.marker(\n                [28.56230197, -80.57735648],\n                {}\n            ).addTo(marker_cluster_4b85ecfc0d62af86f9851f39ae6f0715);\n        \n    \n            var icon_c037423b7a58c65311b30aa75cfecabc = L.AwesomeMarkers.icon(\n                {&quot;extraClasses&quot;: &quot;fa-rotate-0&quot;, &quot;icon&quot;: &quot;info-sign&quot;, &quot;iconColor&quot;: &quot;white&quot;, &quot;markerColor&quot;: &quot;red&quot;, &quot;prefix&quot;: &quot;glyphicon&quot;}\n            );\n            marker_45c2ca8d20b4e819f7cdea150ef4e832.setIcon(icon_c037423b7a58c65311b30aa75cfecabc);\n        \n    \n            var marker_c6465009249797668ef319726c522dfe = L.marker(\n                [28.56230197, -80.57735648],\n                {}\n            ).addTo(marker_cluster_4b85ecfc0d62af86f9851f39ae6f0715);\n        \n    \n            var icon_c402cda3e1d2c45d148dfef1455e02dc = L.AwesomeMarkers.icon(\n                {&quot;extraClasses&quot;: &quot;fa-rotate-0&quot;, &quot;icon&quot;: &quot;info-sign&quot;, &quot;iconColor&quot;: &quot;white&quot;, &quot;markerColor&quot;: &quot;red&quot;, &quot;prefix&quot;: &quot;glyphicon&quot;}\n            );\n            marker_c6465009249797668ef319726c522dfe.setIcon(icon_c402cda3e1d2c45d148dfef1455e02dc);\n        \n    \n            var marker_df2de0c0d23eef75fed306b6703cef61 = L.marker(\n                [28.56230197, -80.57735648],\n                {}\n            ).addTo(marker_cluster_4b85ecfc0d62af86f9851f39ae6f0715);\n        \n    \n            var icon_480e221ed07a46ecdd62ae878b3d47e4 = L.AwesomeMarkers.icon(\n                {&quot;extraClasses&quot;: &quot;fa-rotate-0&quot;, &quot;icon&quot;: &quot;info-sign&quot;, &quot;iconColor&quot;: &quot;white&quot;, &quot;markerColor&quot;: &quot;red&quot;, &quot;prefix&quot;: &quot;glyphicon&quot;}\n            );\n            marker_df2de0c0d23eef75fed306b6703cef61.setIcon(icon_480e221ed07a46ecdd62ae878b3d47e4);\n        \n    \n            var marker_c7376b68cd7af7c53a720710079392e4 = L.marker(\n                [28.56230197, -80.57735648],\n                {}\n            ).addTo(marker_cluster_4b85ecfc0d62af86f9851f39ae6f0715);\n        \n    \n            var icon_425978e4bb67aeb06d1574cc1f984378 = L.AwesomeMarkers.icon(\n                {&quot;extraClasses&quot;: &quot;fa-rotate-0&quot;, &quot;icon&quot;: &quot;info-sign&quot;, &quot;iconColor&quot;: &quot;white&quot;, &quot;markerColor&quot;: &quot;red&quot;, &quot;prefix&quot;: &quot;glyphicon&quot;}\n            );\n            marker_c7376b68cd7af7c53a720710079392e4.setIcon(icon_425978e4bb67aeb06d1574cc1f984378);\n        \n    \n            var marker_0b65a12323d1d5ac90446d598db32d75 = L.marker(\n                [28.56230197, -80.57735648],\n                {}\n            ).addTo(marker_cluster_4b85ecfc0d62af86f9851f39ae6f0715);\n        \n    \n            var icon_a862be2484e95b7965a9771c97ae8407 = L.AwesomeMarkers.icon(\n                {&quot;extraClasses&quot;: &quot;fa-rotate-0&quot;, &quot;icon&quot;: &quot;info-sign&quot;, &quot;iconColor&quot;: &quot;white&quot;, &quot;markerColor&quot;: &quot;red&quot;, &quot;prefix&quot;: &quot;glyphicon&quot;}\n            );\n            marker_0b65a12323d1d5ac90446d598db32d75.setIcon(icon_a862be2484e95b7965a9771c97ae8407);\n        \n    \n            var marker_c2884fab308e229764825fa7089cbcfd = L.marker(\n                [28.56230197, -80.57735648],\n                {}\n            ).addTo(marker_cluster_4b85ecfc0d62af86f9851f39ae6f0715);\n        \n    \n            var icon_52cc67dca918fc36dbaef3cfceb7e3c5 = L.AwesomeMarkers.icon(\n                {&quot;extraClasses&quot;: &quot;fa-rotate-0&quot;, &quot;icon&quot;: &quot;info-sign&quot;, &quot;iconColor&quot;: &quot;white&quot;, &quot;markerColor&quot;: &quot;red&quot;, &quot;prefix&quot;: &quot;glyphicon&quot;}\n            );\n            marker_c2884fab308e229764825fa7089cbcfd.setIcon(icon_52cc67dca918fc36dbaef3cfceb7e3c5);\n        \n    \n            var marker_d0be11e9de073b4c883b8780fea7788a = L.marker(\n                [28.56230197, -80.57735648],\n                {}\n            ).addTo(marker_cluster_4b85ecfc0d62af86f9851f39ae6f0715);\n        \n    \n            var icon_561d9a460beb7f74f9e75ee57e8000dc = L.AwesomeMarkers.icon(\n                {&quot;extraClasses&quot;: &quot;fa-rotate-0&quot;, &quot;icon&quot;: &quot;info-sign&quot;, &quot;iconColor&quot;: &quot;white&quot;, &quot;markerColor&quot;: &quot;red&quot;, &quot;prefix&quot;: &quot;glyphicon&quot;}\n            );\n            marker_d0be11e9de073b4c883b8780fea7788a.setIcon(icon_561d9a460beb7f74f9e75ee57e8000dc);\n        \n    \n            var marker_a90875020886c72d4dfc5b39f7d77190 = L.marker(\n                [28.56230197, -80.57735648],\n                {}\n            ).addTo(marker_cluster_4b85ecfc0d62af86f9851f39ae6f0715);\n        \n    \n            var icon_de72b072f2d5711ad155bc6136caad45 = L.AwesomeMarkers.icon(\n                {&quot;extraClasses&quot;: &quot;fa-rotate-0&quot;, &quot;icon&quot;: &quot;info-sign&quot;, &quot;iconColor&quot;: &quot;white&quot;, &quot;markerColor&quot;: &quot;red&quot;, &quot;prefix&quot;: &quot;glyphicon&quot;}\n            );\n            marker_a90875020886c72d4dfc5b39f7d77190.setIcon(icon_de72b072f2d5711ad155bc6136caad45);\n        \n    \n            var marker_ee239864a2c5600c4c803b7a9b8501f9 = L.marker(\n                [28.56230197, -80.57735648],\n                {}\n            ).addTo(marker_cluster_4b85ecfc0d62af86f9851f39ae6f0715);\n        \n    \n            var icon_8cfa9697c18c325b559243fd33e173bb = L.AwesomeMarkers.icon(\n                {&quot;extraClasses&quot;: &quot;fa-rotate-0&quot;, &quot;icon&quot;: &quot;info-sign&quot;, &quot;iconColor&quot;: &quot;white&quot;, &quot;markerColor&quot;: &quot;red&quot;, &quot;prefix&quot;: &quot;glyphicon&quot;}\n            );\n            marker_ee239864a2c5600c4c803b7a9b8501f9.setIcon(icon_8cfa9697c18c325b559243fd33e173bb);\n        \n    \n            var marker_756f599c93a4ab889a1446dedf80c07d = L.marker(\n                [28.56230197, -80.57735648],\n                {}\n            ).addTo(marker_cluster_4b85ecfc0d62af86f9851f39ae6f0715);\n        \n    \n            var icon_253a4fcf627cbf873d57e812c5a491fb = L.AwesomeMarkers.icon(\n                {&quot;extraClasses&quot;: &quot;fa-rotate-0&quot;, &quot;icon&quot;: &quot;info-sign&quot;, &quot;iconColor&quot;: &quot;white&quot;, &quot;markerColor&quot;: &quot;red&quot;, &quot;prefix&quot;: &quot;glyphicon&quot;}\n            );\n            marker_756f599c93a4ab889a1446dedf80c07d.setIcon(icon_253a4fcf627cbf873d57e812c5a491fb);\n        \n    \n            var marker_4d36a255330a752f2d92d3c154d1d4cf = L.marker(\n                [28.56230197, -80.57735648],\n                {}\n            ).addTo(marker_cluster_4b85ecfc0d62af86f9851f39ae6f0715);\n        \n    \n            var icon_7e0ce31a5a5146245bf06d8789e4b911 = L.AwesomeMarkers.icon(\n                {&quot;extraClasses&quot;: &quot;fa-rotate-0&quot;, &quot;icon&quot;: &quot;info-sign&quot;, &quot;iconColor&quot;: &quot;white&quot;, &quot;markerColor&quot;: &quot;red&quot;, &quot;prefix&quot;: &quot;glyphicon&quot;}\n            );\n            marker_4d36a255330a752f2d92d3c154d1d4cf.setIcon(icon_7e0ce31a5a5146245bf06d8789e4b911);\n        \n    \n            var marker_9140f103d894061443b3d5db6c58461c = L.marker(\n                [28.56230197, -80.57735648],\n                {}\n            ).addTo(marker_cluster_4b85ecfc0d62af86f9851f39ae6f0715);\n        \n    \n            var icon_046bb3f30dead7e30849ae3d2635c175 = L.AwesomeMarkers.icon(\n                {&quot;extraClasses&quot;: &quot;fa-rotate-0&quot;, &quot;icon&quot;: &quot;info-sign&quot;, &quot;iconColor&quot;: &quot;white&quot;, &quot;markerColor&quot;: &quot;red&quot;, &quot;prefix&quot;: &quot;glyphicon&quot;}\n            );\n            marker_9140f103d894061443b3d5db6c58461c.setIcon(icon_046bb3f30dead7e30849ae3d2635c175);\n        \n    \n            var marker_0cf107e2c7bcf4be249675ea110fdf14 = L.marker(\n                [28.56230197, -80.57735648],\n                {}\n            ).addTo(marker_cluster_4b85ecfc0d62af86f9851f39ae6f0715);\n        \n    \n            var icon_f2f3acc3de51a1a0da4171f8bde24e76 = L.AwesomeMarkers.icon(\n                {&quot;extraClasses&quot;: &quot;fa-rotate-0&quot;, &quot;icon&quot;: &quot;info-sign&quot;, &quot;iconColor&quot;: &quot;white&quot;, &quot;markerColor&quot;: &quot;red&quot;, &quot;prefix&quot;: &quot;glyphicon&quot;}\n            );\n            marker_0cf107e2c7bcf4be249675ea110fdf14.setIcon(icon_f2f3acc3de51a1a0da4171f8bde24e76);\n        \n    \n            var marker_66a2a1e44b96b4e5f25c83eb27a56ee4 = L.marker(\n                [28.56230197, -80.57735648],\n                {}\n            ).addTo(marker_cluster_4b85ecfc0d62af86f9851f39ae6f0715);\n        \n    \n            var icon_bcd278594f012654b9c23af4802f8827 = L.AwesomeMarkers.icon(\n                {&quot;extraClasses&quot;: &quot;fa-rotate-0&quot;, &quot;icon&quot;: &quot;info-sign&quot;, &quot;iconColor&quot;: &quot;white&quot;, &quot;markerColor&quot;: &quot;red&quot;, &quot;prefix&quot;: &quot;glyphicon&quot;}\n            );\n            marker_66a2a1e44b96b4e5f25c83eb27a56ee4.setIcon(icon_bcd278594f012654b9c23af4802f8827);\n        \n    \n            var marker_bdb8f71495d04c066da906d6ea1ff4c4 = L.marker(\n                [28.56230197, -80.57735648],\n                {}\n            ).addTo(marker_cluster_4b85ecfc0d62af86f9851f39ae6f0715);\n        \n    \n            var icon_855ac1b9b3b9ba46bd340ab2c58f732d = L.AwesomeMarkers.icon(\n                {&quot;extraClasses&quot;: &quot;fa-rotate-0&quot;, &quot;icon&quot;: &quot;info-sign&quot;, &quot;iconColor&quot;: &quot;white&quot;, &quot;markerColor&quot;: &quot;red&quot;, &quot;prefix&quot;: &quot;glyphicon&quot;}\n            );\n            marker_bdb8f71495d04c066da906d6ea1ff4c4.setIcon(icon_855ac1b9b3b9ba46bd340ab2c58f732d);\n        \n    \n            var marker_444c0852674fd96f90b044eaf9545fc4 = L.marker(\n                [28.56230197, -80.57735648],\n                {}\n            ).addTo(marker_cluster_4b85ecfc0d62af86f9851f39ae6f0715);\n        \n    \n            var icon_4ec27ee924d944889e3047e0ff73adb4 = L.AwesomeMarkers.icon(\n                {&quot;extraClasses&quot;: &quot;fa-rotate-0&quot;, &quot;icon&quot;: &quot;info-sign&quot;, &quot;iconColor&quot;: &quot;white&quot;, &quot;markerColor&quot;: &quot;red&quot;, &quot;prefix&quot;: &quot;glyphicon&quot;}\n            );\n            marker_444c0852674fd96f90b044eaf9545fc4.setIcon(icon_4ec27ee924d944889e3047e0ff73adb4);\n        \n    \n            var marker_94c602c6c860eae0a535e132c82c0b07 = L.marker(\n                [28.56230197, -80.57735648],\n                {}\n            ).addTo(marker_cluster_4b85ecfc0d62af86f9851f39ae6f0715);\n        \n    \n            var icon_065bc9ecaaf5d8a7032ce45f99042fc3 = L.AwesomeMarkers.icon(\n                {&quot;extraClasses&quot;: &quot;fa-rotate-0&quot;, &quot;icon&quot;: &quot;info-sign&quot;, &quot;iconColor&quot;: &quot;white&quot;, &quot;markerColor&quot;: &quot;green&quot;, &quot;prefix&quot;: &quot;glyphicon&quot;}\n            );\n            marker_94c602c6c860eae0a535e132c82c0b07.setIcon(icon_065bc9ecaaf5d8a7032ce45f99042fc3);\n        \n    \n            var marker_66a8d6e17cc8278ba3a08e20194abff1 = L.marker(\n                [28.56230197, -80.57735648],\n                {}\n            ).addTo(marker_cluster_4b85ecfc0d62af86f9851f39ae6f0715);\n        \n    \n            var icon_7f9024c42be6b749d1a02d4e06d6f80b = L.AwesomeMarkers.icon(\n                {&quot;extraClasses&quot;: &quot;fa-rotate-0&quot;, &quot;icon&quot;: &quot;info-sign&quot;, &quot;iconColor&quot;: &quot;white&quot;, &quot;markerColor&quot;: &quot;green&quot;, &quot;prefix&quot;: &quot;glyphicon&quot;}\n            );\n            marker_66a8d6e17cc8278ba3a08e20194abff1.setIcon(icon_7f9024c42be6b749d1a02d4e06d6f80b);\n        \n    \n            var marker_f9cc641533a3685b6aaf9d6d47655273 = L.marker(\n                [28.56230197, -80.57735648],\n                {}\n            ).addTo(marker_cluster_4b85ecfc0d62af86f9851f39ae6f0715);\n        \n    \n            var icon_ecc4a5207188ecfe952b1e6950e87c98 = L.AwesomeMarkers.icon(\n                {&quot;extraClasses&quot;: &quot;fa-rotate-0&quot;, &quot;icon&quot;: &quot;info-sign&quot;, &quot;iconColor&quot;: &quot;white&quot;, &quot;markerColor&quot;: &quot;red&quot;, &quot;prefix&quot;: &quot;glyphicon&quot;}\n            );\n            marker_f9cc641533a3685b6aaf9d6d47655273.setIcon(icon_ecc4a5207188ecfe952b1e6950e87c98);\n        \n    \n            var marker_0ca798ff68661ca6ee26d376e1641d54 = L.marker(\n                [28.56230197, -80.57735648],\n                {}\n            ).addTo(marker_cluster_4b85ecfc0d62af86f9851f39ae6f0715);\n        \n    \n            var icon_15760a63eb1900658baa43295cb7a155 = L.AwesomeMarkers.icon(\n                {&quot;extraClasses&quot;: &quot;fa-rotate-0&quot;, &quot;icon&quot;: &quot;info-sign&quot;, &quot;iconColor&quot;: &quot;white&quot;, &quot;markerColor&quot;: &quot;green&quot;, &quot;prefix&quot;: &quot;glyphicon&quot;}\n            );\n            marker_0ca798ff68661ca6ee26d376e1641d54.setIcon(icon_15760a63eb1900658baa43295cb7a155);\n        \n    \n            var marker_442d750b2c82062e5272782380e19f5c = L.marker(\n                [28.56230197, -80.57735648],\n                {}\n            ).addTo(marker_cluster_4b85ecfc0d62af86f9851f39ae6f0715);\n        \n    \n            var icon_b230ef062c95a7149c4b1622276e6d85 = L.AwesomeMarkers.icon(\n                {&quot;extraClasses&quot;: &quot;fa-rotate-0&quot;, &quot;icon&quot;: &quot;info-sign&quot;, &quot;iconColor&quot;: &quot;white&quot;, &quot;markerColor&quot;: &quot;green&quot;, &quot;prefix&quot;: &quot;glyphicon&quot;}\n            );\n            marker_442d750b2c82062e5272782380e19f5c.setIcon(icon_b230ef062c95a7149c4b1622276e6d85);\n        \n    \n            var marker_62f08eccc22edfb379b3bae5fc71c6ef = L.marker(\n                [28.56230197, -80.57735648],\n                {}\n            ).addTo(marker_cluster_4b85ecfc0d62af86f9851f39ae6f0715);\n        \n    \n            var icon_84056077c3cec558bc4de53854bf5bc7 = L.AwesomeMarkers.icon(\n                {&quot;extraClasses&quot;: &quot;fa-rotate-0&quot;, &quot;icon&quot;: &quot;info-sign&quot;, &quot;iconColor&quot;: &quot;white&quot;, &quot;markerColor&quot;: &quot;green&quot;, &quot;prefix&quot;: &quot;glyphicon&quot;}\n            );\n            marker_62f08eccc22edfb379b3bae5fc71c6ef.setIcon(icon_84056077c3cec558bc4de53854bf5bc7);\n        \n    \n            var marker_c54783f8db5df1065353ef89dcdaa296 = L.marker(\n                [28.56230197, -80.57735648],\n                {}\n            ).addTo(marker_cluster_4b85ecfc0d62af86f9851f39ae6f0715);\n        \n    \n            var icon_f32e27fa4fb6ed34ce6edd4e5f02b053 = L.AwesomeMarkers.icon(\n                {&quot;extraClasses&quot;: &quot;fa-rotate-0&quot;, &quot;icon&quot;: &quot;info-sign&quot;, &quot;iconColor&quot;: &quot;white&quot;, &quot;markerColor&quot;: &quot;red&quot;, &quot;prefix&quot;: &quot;glyphicon&quot;}\n            );\n            marker_c54783f8db5df1065353ef89dcdaa296.setIcon(icon_f32e27fa4fb6ed34ce6edd4e5f02b053);\n        \n    \n            var marker_ae1e5f6ab5624511066c194d66fac045 = L.marker(\n                [28.56230197, -80.57735648],\n                {}\n            ).addTo(marker_cluster_4b85ecfc0d62af86f9851f39ae6f0715);\n        \n    \n            var icon_9e6a495970d8775c95a45dbe8593953f = L.AwesomeMarkers.icon(\n                {&quot;extraClasses&quot;: &quot;fa-rotate-0&quot;, &quot;icon&quot;: &quot;info-sign&quot;, &quot;iconColor&quot;: &quot;white&quot;, &quot;markerColor&quot;: &quot;green&quot;, &quot;prefix&quot;: &quot;glyphicon&quot;}\n            );\n            marker_ae1e5f6ab5624511066c194d66fac045.setIcon(icon_9e6a495970d8775c95a45dbe8593953f);\n        \n    \n            var marker_bf54a00771efce17f4959b698870536d = L.marker(\n                [28.56230197, -80.57735648],\n                {}\n            ).addTo(marker_cluster_4b85ecfc0d62af86f9851f39ae6f0715);\n        \n    \n            var icon_42bdd6f59ce8e421c47b56d2906a1753 = L.AwesomeMarkers.icon(\n                {&quot;extraClasses&quot;: &quot;fa-rotate-0&quot;, &quot;icon&quot;: &quot;info-sign&quot;, &quot;iconColor&quot;: &quot;white&quot;, &quot;markerColor&quot;: &quot;green&quot;, &quot;prefix&quot;: &quot;glyphicon&quot;}\n            );\n            marker_bf54a00771efce17f4959b698870536d.setIcon(icon_42bdd6f59ce8e421c47b56d2906a1753);\n        \n    \n            var marker_9d91d6acfaccea5bf7cb5238460cd25d = L.marker(\n                [34.63283416, -120.6107455],\n                {}\n            ).addTo(marker_cluster_4b85ecfc0d62af86f9851f39ae6f0715);\n        \n    \n            var icon_bbd619cb5284fa4c79f419c53e427a45 = L.AwesomeMarkers.icon(\n                {&quot;extraClasses&quot;: &quot;fa-rotate-0&quot;, &quot;icon&quot;: &quot;info-sign&quot;, &quot;iconColor&quot;: &quot;white&quot;, &quot;markerColor&quot;: &quot;red&quot;, &quot;prefix&quot;: &quot;glyphicon&quot;}\n            );\n            marker_9d91d6acfaccea5bf7cb5238460cd25d.setIcon(icon_bbd619cb5284fa4c79f419c53e427a45);\n        \n    \n            var marker_6a223484d8e60b86cba59eaef4186dfa = L.marker(\n                [34.63283416, -120.6107455],\n                {}\n            ).addTo(marker_cluster_4b85ecfc0d62af86f9851f39ae6f0715);\n        \n    \n            var icon_aee8ef95050d6b06c62d2a3ed41c6bf5 = L.AwesomeMarkers.icon(\n                {&quot;extraClasses&quot;: &quot;fa-rotate-0&quot;, &quot;icon&quot;: &quot;info-sign&quot;, &quot;iconColor&quot;: &quot;white&quot;, &quot;markerColor&quot;: &quot;red&quot;, &quot;prefix&quot;: &quot;glyphicon&quot;}\n            );\n            marker_6a223484d8e60b86cba59eaef4186dfa.setIcon(icon_aee8ef95050d6b06c62d2a3ed41c6bf5);\n        \n    \n            var marker_32d9a255674169451f3cb8b8d17ffe80 = L.marker(\n                [34.63283416, -120.6107455],\n                {}\n            ).addTo(marker_cluster_4b85ecfc0d62af86f9851f39ae6f0715);\n        \n    \n            var icon_a2c32c447cb67f9a700a283323c98c2c = L.AwesomeMarkers.icon(\n                {&quot;extraClasses&quot;: &quot;fa-rotate-0&quot;, &quot;icon&quot;: &quot;info-sign&quot;, &quot;iconColor&quot;: &quot;white&quot;, &quot;markerColor&quot;: &quot;green&quot;, &quot;prefix&quot;: &quot;glyphicon&quot;}\n            );\n            marker_32d9a255674169451f3cb8b8d17ffe80.setIcon(icon_a2c32c447cb67f9a700a283323c98c2c);\n        \n    \n            var marker_83e4af2c5cf94aa9a08928fc46f2e0be = L.marker(\n                [34.63283416, -120.6107455],\n                {}\n            ).addTo(marker_cluster_4b85ecfc0d62af86f9851f39ae6f0715);\n        \n    \n            var icon_ed79e1d2c5def82a61f22a083fabcde3 = L.AwesomeMarkers.icon(\n                {&quot;extraClasses&quot;: &quot;fa-rotate-0&quot;, &quot;icon&quot;: &quot;info-sign&quot;, &quot;iconColor&quot;: &quot;white&quot;, &quot;markerColor&quot;: &quot;green&quot;, &quot;prefix&quot;: &quot;glyphicon&quot;}\n            );\n            marker_83e4af2c5cf94aa9a08928fc46f2e0be.setIcon(icon_ed79e1d2c5def82a61f22a083fabcde3);\n        \n    \n            var marker_adcb7794d1f814a3410bde1a63a4582e = L.marker(\n                [34.63283416, -120.6107455],\n                {}\n            ).addTo(marker_cluster_4b85ecfc0d62af86f9851f39ae6f0715);\n        \n    \n            var icon_ec04e901d26b3ee1a196d3b8528c3ea1 = L.AwesomeMarkers.icon(\n                {&quot;extraClasses&quot;: &quot;fa-rotate-0&quot;, &quot;icon&quot;: &quot;info-sign&quot;, &quot;iconColor&quot;: &quot;white&quot;, &quot;markerColor&quot;: &quot;green&quot;, &quot;prefix&quot;: &quot;glyphicon&quot;}\n            );\n            marker_adcb7794d1f814a3410bde1a63a4582e.setIcon(icon_ec04e901d26b3ee1a196d3b8528c3ea1);\n        \n    \n            var marker_9fb83cf57afd33bd92d4dd4be7083ba7 = L.marker(\n                [34.63283416, -120.6107455],\n                {}\n            ).addTo(marker_cluster_4b85ecfc0d62af86f9851f39ae6f0715);\n        \n    \n            var icon_6ed51ef79749fb7d908dc1967df17b49 = L.AwesomeMarkers.icon(\n                {&quot;extraClasses&quot;: &quot;fa-rotate-0&quot;, &quot;icon&quot;: &quot;info-sign&quot;, &quot;iconColor&quot;: &quot;white&quot;, &quot;markerColor&quot;: &quot;green&quot;, &quot;prefix&quot;: &quot;glyphicon&quot;}\n            );\n            marker_9fb83cf57afd33bd92d4dd4be7083ba7.setIcon(icon_6ed51ef79749fb7d908dc1967df17b49);\n        \n    \n            var marker_bee119b1a5423dad220cf7cf037958f6 = L.marker(\n                [34.63283416, -120.6107455],\n                {}\n            ).addTo(marker_cluster_4b85ecfc0d62af86f9851f39ae6f0715);\n        \n    \n            var icon_07e6b3e7f5918d598e8a16ac3df85a32 = L.AwesomeMarkers.icon(\n                {&quot;extraClasses&quot;: &quot;fa-rotate-0&quot;, &quot;icon&quot;: &quot;info-sign&quot;, &quot;iconColor&quot;: &quot;white&quot;, &quot;markerColor&quot;: &quot;red&quot;, &quot;prefix&quot;: &quot;glyphicon&quot;}\n            );\n            marker_bee119b1a5423dad220cf7cf037958f6.setIcon(icon_07e6b3e7f5918d598e8a16ac3df85a32);\n        \n    \n            var marker_10eea0b7f5841fb88f094554ba6371d2 = L.marker(\n                [34.63283416, -120.6107455],\n                {}\n            ).addTo(marker_cluster_4b85ecfc0d62af86f9851f39ae6f0715);\n        \n    \n            var icon_332b56e6b062fb063372a7688141b52f = L.AwesomeMarkers.icon(\n                {&quot;extraClasses&quot;: &quot;fa-rotate-0&quot;, &quot;icon&quot;: &quot;info-sign&quot;, &quot;iconColor&quot;: &quot;white&quot;, &quot;markerColor&quot;: &quot;red&quot;, &quot;prefix&quot;: &quot;glyphicon&quot;}\n            );\n            marker_10eea0b7f5841fb88f094554ba6371d2.setIcon(icon_332b56e6b062fb063372a7688141b52f);\n        \n    \n            var marker_60bfd1fad9daddc50d418914cdc48a90 = L.marker(\n                [34.63283416, -120.6107455],\n                {}\n            ).addTo(marker_cluster_4b85ecfc0d62af86f9851f39ae6f0715);\n        \n    \n            var icon_911985f7c911e38a0454490782cebae6 = L.AwesomeMarkers.icon(\n                {&quot;extraClasses&quot;: &quot;fa-rotate-0&quot;, &quot;icon&quot;: &quot;info-sign&quot;, &quot;iconColor&quot;: &quot;white&quot;, &quot;markerColor&quot;: &quot;red&quot;, &quot;prefix&quot;: &quot;glyphicon&quot;}\n            );\n            marker_60bfd1fad9daddc50d418914cdc48a90.setIcon(icon_911985f7c911e38a0454490782cebae6);\n        \n    \n            var marker_334eabbf9d8a42eefb308500b1a15350 = L.marker(\n                [34.63283416, -120.6107455],\n                {}\n            ).addTo(marker_cluster_4b85ecfc0d62af86f9851f39ae6f0715);\n        \n    \n            var icon_3025b72e1970e185a3f738c99b40a6df = L.AwesomeMarkers.icon(\n                {&quot;extraClasses&quot;: &quot;fa-rotate-0&quot;, &quot;icon&quot;: &quot;info-sign&quot;, &quot;iconColor&quot;: &quot;white&quot;, &quot;markerColor&quot;: &quot;red&quot;, &quot;prefix&quot;: &quot;glyphicon&quot;}\n            );\n            marker_334eabbf9d8a42eefb308500b1a15350.setIcon(icon_3025b72e1970e185a3f738c99b40a6df);\n        \n    \n            var marker_acaff36c68d4a59a77acaef1ffab6210 = L.marker(\n                [28.57325457, -80.64689529],\n                {}\n            ).addTo(marker_cluster_4b85ecfc0d62af86f9851f39ae6f0715);\n        \n    \n            var icon_300d161d6f65fb358e3c9310d3cf3320 = L.AwesomeMarkers.icon(\n                {&quot;extraClasses&quot;: &quot;fa-rotate-0&quot;, &quot;icon&quot;: &quot;info-sign&quot;, &quot;iconColor&quot;: &quot;white&quot;, &quot;markerColor&quot;: &quot;green&quot;, &quot;prefix&quot;: &quot;glyphicon&quot;}\n            );\n            marker_acaff36c68d4a59a77acaef1ffab6210.setIcon(icon_300d161d6f65fb358e3c9310d3cf3320);\n        \n    \n            var marker_41ee354e938ce9df8ee53a29a834bbac = L.marker(\n                [28.57325457, -80.64689529],\n                {}\n            ).addTo(marker_cluster_4b85ecfc0d62af86f9851f39ae6f0715);\n        \n    \n            var icon_aac3c1a5af7178cd11e75c849e1b43fa = L.AwesomeMarkers.icon(\n                {&quot;extraClasses&quot;: &quot;fa-rotate-0&quot;, &quot;icon&quot;: &quot;info-sign&quot;, &quot;iconColor&quot;: &quot;white&quot;, &quot;markerColor&quot;: &quot;red&quot;, &quot;prefix&quot;: &quot;glyphicon&quot;}\n            );\n            marker_41ee354e938ce9df8ee53a29a834bbac.setIcon(icon_aac3c1a5af7178cd11e75c849e1b43fa);\n        \n    \n            var marker_0520073bbbbbec5fd2ee1ae3f9b1fa68 = L.marker(\n                [28.57325457, -80.64689529],\n                {}\n            ).addTo(marker_cluster_4b85ecfc0d62af86f9851f39ae6f0715);\n        \n    \n            var icon_7b9e5a4a334b5fcb0b85f382fe35f9f0 = L.AwesomeMarkers.icon(\n                {&quot;extraClasses&quot;: &quot;fa-rotate-0&quot;, &quot;icon&quot;: &quot;info-sign&quot;, &quot;iconColor&quot;: &quot;white&quot;, &quot;markerColor&quot;: &quot;green&quot;, &quot;prefix&quot;: &quot;glyphicon&quot;}\n            );\n            marker_0520073bbbbbec5fd2ee1ae3f9b1fa68.setIcon(icon_7b9e5a4a334b5fcb0b85f382fe35f9f0);\n        \n    \n            var marker_de7a3bbe1b88dc9bb8af941002ba32a6 = L.marker(\n                [28.57325457, -80.64689529],\n                {}\n            ).addTo(marker_cluster_4b85ecfc0d62af86f9851f39ae6f0715);\n        \n    \n            var icon_87bd22932bf8d0e9109ab7d9135809bc = L.AwesomeMarkers.icon(\n                {&quot;extraClasses&quot;: &quot;fa-rotate-0&quot;, &quot;icon&quot;: &quot;info-sign&quot;, &quot;iconColor&quot;: &quot;white&quot;, &quot;markerColor&quot;: &quot;green&quot;, &quot;prefix&quot;: &quot;glyphicon&quot;}\n            );\n            marker_de7a3bbe1b88dc9bb8af941002ba32a6.setIcon(icon_87bd22932bf8d0e9109ab7d9135809bc);\n        \n    \n            var marker_9fa954e771a37ab5ac24c9b45928c9ba = L.marker(\n                [28.57325457, -80.64689529],\n                {}\n            ).addTo(marker_cluster_4b85ecfc0d62af86f9851f39ae6f0715);\n        \n    \n            var icon_46e751f9eee525513eea8e3c7490e05c = L.AwesomeMarkers.icon(\n                {&quot;extraClasses&quot;: &quot;fa-rotate-0&quot;, &quot;icon&quot;: &quot;info-sign&quot;, &quot;iconColor&quot;: &quot;white&quot;, &quot;markerColor&quot;: &quot;red&quot;, &quot;prefix&quot;: &quot;glyphicon&quot;}\n            );\n            marker_9fa954e771a37ab5ac24c9b45928c9ba.setIcon(icon_46e751f9eee525513eea8e3c7490e05c);\n        \n    \n            var marker_7cd8a809410927931e56134de7c0647d = L.marker(\n                [28.57325457, -80.64689529],\n                {}\n            ).addTo(marker_cluster_4b85ecfc0d62af86f9851f39ae6f0715);\n        \n    \n            var icon_9f542c4875a8bd25280df70323965a07 = L.AwesomeMarkers.icon(\n                {&quot;extraClasses&quot;: &quot;fa-rotate-0&quot;, &quot;icon&quot;: &quot;info-sign&quot;, &quot;iconColor&quot;: &quot;white&quot;, &quot;markerColor&quot;: &quot;green&quot;, &quot;prefix&quot;: &quot;glyphicon&quot;}\n            );\n            marker_7cd8a809410927931e56134de7c0647d.setIcon(icon_9f542c4875a8bd25280df70323965a07);\n        \n    \n            var marker_aa51b4643bfda8b9c5c4d15af4d95887 = L.marker(\n                [28.57325457, -80.64689529],\n                {}\n            ).addTo(marker_cluster_4b85ecfc0d62af86f9851f39ae6f0715);\n        \n    \n            var icon_510616e81caa50a2d60cf1315f65cc9b = L.AwesomeMarkers.icon(\n                {&quot;extraClasses&quot;: &quot;fa-rotate-0&quot;, &quot;icon&quot;: &quot;info-sign&quot;, &quot;iconColor&quot;: &quot;white&quot;, &quot;markerColor&quot;: &quot;green&quot;, &quot;prefix&quot;: &quot;glyphicon&quot;}\n            );\n            marker_aa51b4643bfda8b9c5c4d15af4d95887.setIcon(icon_510616e81caa50a2d60cf1315f65cc9b);\n        \n    \n            var marker_f4aa55a9c108d3b4bfe9e4ae7bd635fd = L.marker(\n                [28.57325457, -80.64689529],\n                {}\n            ).addTo(marker_cluster_4b85ecfc0d62af86f9851f39ae6f0715);\n        \n    \n            var icon_017873f9d91d2675c894b9b902995456 = L.AwesomeMarkers.icon(\n                {&quot;extraClasses&quot;: &quot;fa-rotate-0&quot;, &quot;icon&quot;: &quot;info-sign&quot;, &quot;iconColor&quot;: &quot;white&quot;, &quot;markerColor&quot;: &quot;red&quot;, &quot;prefix&quot;: &quot;glyphicon&quot;}\n            );\n            marker_f4aa55a9c108d3b4bfe9e4ae7bd635fd.setIcon(icon_017873f9d91d2675c894b9b902995456);\n        \n    \n            var marker_2649ebfd3059ce59d9a671ad4c1d7b78 = L.marker(\n                [28.57325457, -80.64689529],\n                {}\n            ).addTo(marker_cluster_4b85ecfc0d62af86f9851f39ae6f0715);\n        \n    \n            var icon_77c94f5cd1af54bf91dee485034b518b = L.AwesomeMarkers.icon(\n                {&quot;extraClasses&quot;: &quot;fa-rotate-0&quot;, &quot;icon&quot;: &quot;info-sign&quot;, &quot;iconColor&quot;: &quot;white&quot;, &quot;markerColor&quot;: &quot;green&quot;, &quot;prefix&quot;: &quot;glyphicon&quot;}\n            );\n            marker_2649ebfd3059ce59d9a671ad4c1d7b78.setIcon(icon_77c94f5cd1af54bf91dee485034b518b);\n        \n    \n            var marker_d77b83ab53a32e6985ae34cd87657ad8 = L.marker(\n                [28.57325457, -80.64689529],\n                {}\n            ).addTo(marker_cluster_4b85ecfc0d62af86f9851f39ae6f0715);\n        \n    \n            var icon_a502f5af042d91f876c19a17c9831926 = L.AwesomeMarkers.icon(\n                {&quot;extraClasses&quot;: &quot;fa-rotate-0&quot;, &quot;icon&quot;: &quot;info-sign&quot;, &quot;iconColor&quot;: &quot;white&quot;, &quot;markerColor&quot;: &quot;green&quot;, &quot;prefix&quot;: &quot;glyphicon&quot;}\n            );\n            marker_d77b83ab53a32e6985ae34cd87657ad8.setIcon(icon_a502f5af042d91f876c19a17c9831926);\n        \n    \n            var marker_f1f646006c82c601f81c016aa2b9222c = L.marker(\n                [28.57325457, -80.64689529],\n                {}\n            ).addTo(marker_cluster_4b85ecfc0d62af86f9851f39ae6f0715);\n        \n    \n            var icon_0525ce4ad2f84194bebf6c1bcc8b13a2 = L.AwesomeMarkers.icon(\n                {&quot;extraClasses&quot;: &quot;fa-rotate-0&quot;, &quot;icon&quot;: &quot;info-sign&quot;, &quot;iconColor&quot;: &quot;white&quot;, &quot;markerColor&quot;: &quot;green&quot;, &quot;prefix&quot;: &quot;glyphicon&quot;}\n            );\n            marker_f1f646006c82c601f81c016aa2b9222c.setIcon(icon_0525ce4ad2f84194bebf6c1bcc8b13a2);\n        \n    \n            var marker_ccf7b1ff982eed4b8638277509a5000c = L.marker(\n                [28.57325457, -80.64689529],\n                {}\n            ).addTo(marker_cluster_4b85ecfc0d62af86f9851f39ae6f0715);\n        \n    \n            var icon_582cf7ec169f5e91bccc11998038c5d4 = L.AwesomeMarkers.icon(\n                {&quot;extraClasses&quot;: &quot;fa-rotate-0&quot;, &quot;icon&quot;: &quot;info-sign&quot;, &quot;iconColor&quot;: &quot;white&quot;, &quot;markerColor&quot;: &quot;green&quot;, &quot;prefix&quot;: &quot;glyphicon&quot;}\n            );\n            marker_ccf7b1ff982eed4b8638277509a5000c.setIcon(icon_582cf7ec169f5e91bccc11998038c5d4);\n        \n    \n            var marker_0e91d7fde0927be1ef88cec75626a8af = L.marker(\n                [28.57325457, -80.64689529],\n                {}\n            ).addTo(marker_cluster_4b85ecfc0d62af86f9851f39ae6f0715);\n        \n    \n            var icon_19618b0aec1fe0d7c732c4e2a114e4ce = L.AwesomeMarkers.icon(\n                {&quot;extraClasses&quot;: &quot;fa-rotate-0&quot;, &quot;icon&quot;: &quot;info-sign&quot;, &quot;iconColor&quot;: &quot;white&quot;, &quot;markerColor&quot;: &quot;green&quot;, &quot;prefix&quot;: &quot;glyphicon&quot;}\n            );\n            marker_0e91d7fde0927be1ef88cec75626a8af.setIcon(icon_19618b0aec1fe0d7c732c4e2a114e4ce);\n        \n    \n            var marker_984f732a8bd50a86a9b8296ae536c423 = L.marker(\n                [28.56319718, -80.57682003],\n                {}\n            ).addTo(marker_cluster_4b85ecfc0d62af86f9851f39ae6f0715);\n        \n    \n            var icon_b9b5da2a47c3c8805a780b7ebb06f25c = L.AwesomeMarkers.icon(\n                {&quot;extraClasses&quot;: &quot;fa-rotate-0&quot;, &quot;icon&quot;: &quot;info-sign&quot;, &quot;iconColor&quot;: &quot;white&quot;, &quot;markerColor&quot;: &quot;green&quot;, &quot;prefix&quot;: &quot;glyphicon&quot;}\n            );\n            marker_984f732a8bd50a86a9b8296ae536c423.setIcon(icon_b9b5da2a47c3c8805a780b7ebb06f25c);\n        \n    \n            var marker_24c435bd2f456d5b9ec866f6d1efd912 = L.marker(\n                [28.56319718, -80.57682003],\n                {}\n            ).addTo(marker_cluster_4b85ecfc0d62af86f9851f39ae6f0715);\n        \n    \n            var icon_6389b9bdaf15d69a73454dc973e14eaf = L.AwesomeMarkers.icon(\n                {&quot;extraClasses&quot;: &quot;fa-rotate-0&quot;, &quot;icon&quot;: &quot;info-sign&quot;, &quot;iconColor&quot;: &quot;white&quot;, &quot;markerColor&quot;: &quot;green&quot;, &quot;prefix&quot;: &quot;glyphicon&quot;}\n            );\n            marker_24c435bd2f456d5b9ec866f6d1efd912.setIcon(icon_6389b9bdaf15d69a73454dc973e14eaf);\n        \n    \n            var marker_0376a303bb6b25a04face66ac48680f7 = L.marker(\n                [28.56319718, -80.57682003],\n                {}\n            ).addTo(marker_cluster_4b85ecfc0d62af86f9851f39ae6f0715);\n        \n    \n            var icon_434fd7ce0ae057b88e0be8f58d80f5c5 = L.AwesomeMarkers.icon(\n                {&quot;extraClasses&quot;: &quot;fa-rotate-0&quot;, &quot;icon&quot;: &quot;info-sign&quot;, &quot;iconColor&quot;: &quot;white&quot;, &quot;markerColor&quot;: &quot;red&quot;, &quot;prefix&quot;: &quot;glyphicon&quot;}\n            );\n            marker_0376a303bb6b25a04face66ac48680f7.setIcon(icon_434fd7ce0ae057b88e0be8f58d80f5c5);\n        \n    \n            var marker_bab46b9cc06550487ad1efe3b9496aa5 = L.marker(\n                [28.56319718, -80.57682003],\n                {}\n            ).addTo(marker_cluster_4b85ecfc0d62af86f9851f39ae6f0715);\n        \n    \n            var icon_f8fb08deba867b698f868ed1b73e1dab = L.AwesomeMarkers.icon(\n                {&quot;extraClasses&quot;: &quot;fa-rotate-0&quot;, &quot;icon&quot;: &quot;info-sign&quot;, &quot;iconColor&quot;: &quot;white&quot;, &quot;markerColor&quot;: &quot;red&quot;, &quot;prefix&quot;: &quot;glyphicon&quot;}\n            );\n            marker_bab46b9cc06550487ad1efe3b9496aa5.setIcon(icon_f8fb08deba867b698f868ed1b73e1dab);\n        \n    \n            var marker_019c8bdf49bbdd445be1ce06d1d4fcbb = L.marker(\n                [28.56319718, -80.57682003],\n                {}\n            ).addTo(marker_cluster_4b85ecfc0d62af86f9851f39ae6f0715);\n        \n    \n            var icon_11d67465a733fcc38853430b40f9d22c = L.AwesomeMarkers.icon(\n                {&quot;extraClasses&quot;: &quot;fa-rotate-0&quot;, &quot;icon&quot;: &quot;info-sign&quot;, &quot;iconColor&quot;: &quot;white&quot;, &quot;markerColor&quot;: &quot;red&quot;, &quot;prefix&quot;: &quot;glyphicon&quot;}\n            );\n            marker_019c8bdf49bbdd445be1ce06d1d4fcbb.setIcon(icon_11d67465a733fcc38853430b40f9d22c);\n        \n    \n            var marker_cff3bfee88ea2e4ed1d653d2996fa0d9 = L.marker(\n                [28.56319718, -80.57682003],\n                {}\n            ).addTo(marker_cluster_4b85ecfc0d62af86f9851f39ae6f0715);\n        \n    \n            var icon_575ab5d115fe8bbde91ffdcbe2cdb811 = L.AwesomeMarkers.icon(\n                {&quot;extraClasses&quot;: &quot;fa-rotate-0&quot;, &quot;icon&quot;: &quot;info-sign&quot;, &quot;iconColor&quot;: &quot;white&quot;, &quot;markerColor&quot;: &quot;green&quot;, &quot;prefix&quot;: &quot;glyphicon&quot;}\n            );\n            marker_cff3bfee88ea2e4ed1d653d2996fa0d9.setIcon(icon_575ab5d115fe8bbde91ffdcbe2cdb811);\n        \n    \n            var marker_a62acc281b5fef0f098cc508f877868b = L.marker(\n                [28.56319718, -80.57682003],\n                {}\n            ).addTo(marker_cluster_4b85ecfc0d62af86f9851f39ae6f0715);\n        \n    \n            var icon_bc09b3950b680491e60a846bbb4e3624 = L.AwesomeMarkers.icon(\n                {&quot;extraClasses&quot;: &quot;fa-rotate-0&quot;, &quot;icon&quot;: &quot;info-sign&quot;, &quot;iconColor&quot;: &quot;white&quot;, &quot;markerColor&quot;: &quot;red&quot;, &quot;prefix&quot;: &quot;glyphicon&quot;}\n            );\n            marker_a62acc281b5fef0f098cc508f877868b.setIcon(icon_bc09b3950b680491e60a846bbb4e3624);\n        \n    \n            marker_cluster_4b85ecfc0d62af86f9851f39ae6f0715.addTo(map_3eeacea75806a21cc2d0a9250f46c8ff);\n        \n    \n            tile_layer_2d9213896cedf01616b1ffc71a3fa557.addTo(map_3eeacea75806a21cc2d0a9250f46c8ff);\n        \n    \n            marker_cluster_4b85ecfc0d62af86f9851f39ae6f0715.addTo(map_3eeacea75806a21cc2d0a9250f46c8ff);\n        \n    \n            var mouse_position_9370e2dcc093be98653dac6c65594494 = new L.Control.MousePosition(\n                {&quot;emptyString&quot;: &quot;NaN&quot;, &quot;lngFirst&quot;: false, &quot;numDigits&quot;: 20, &quot;position&quot;: &quot;topright&quot;, &quot;prefix&quot;: &quot;Lat:&quot;, &quot;separator&quot;: &quot; Long: &quot;}\n            );\n            mouse_position_9370e2dcc093be98653dac6c65594494.options[&quot;latFormatter&quot;] =\n                function(num) {return L.Util.formatNum(num, 5);};;\n            mouse_position_9370e2dcc093be98653dac6c65594494.options[&quot;lngFormatter&quot;] =\n                function(num) {return L.Util.formatNum(num, 5);};;\n            map_3eeacea75806a21cc2d0a9250f46c8ff.addControl(mouse_position_9370e2dcc093be98653dac6c65594494);\n        \n    \n            tile_layer_2d9213896cedf01616b1ffc71a3fa557.addTo(map_3eeacea75806a21cc2d0a9250f46c8ff);\n        \n    \n            marker_cluster_4b85ecfc0d62af86f9851f39ae6f0715.addTo(map_3eeacea75806a21cc2d0a9250f46c8ff);\n        \n    \n            var marker_d25c09b140b10041ae34ca30b25d7ec8 = L.marker(\n                [28.56327, -80.56789],\n                {}\n            ).addTo(map_3eeacea75806a21cc2d0a9250f46c8ff);\n        \n    \n            var div_icon_b20dea93a6ba0f579720c6f3df1cc178 = L.divIcon({&quot;className&quot;: &quot;empty&quot;, &quot;html&quot;: &quot;\\u003cdiv style=\\&quot;font-size: 12; color:#d35400;\\&quot;\\u003e\\u003cb\\u003e      0.87 KM\\u003c/b\\u003e\\u003c/div\\u003e&quot;, &quot;iconAnchor&quot;: [0, 0], &quot;iconSize&quot;: [20, 20]});\n            marker_d25c09b140b10041ae34ca30b25d7ec8.setIcon(div_icon_b20dea93a6ba0f579720c6f3df1cc178);\n        \n    \n            tile_layer_2d9213896cedf01616b1ffc71a3fa557.addTo(map_3eeacea75806a21cc2d0a9250f46c8ff);\n        \n    \n            marker_cluster_4b85ecfc0d62af86f9851f39ae6f0715.addTo(map_3eeacea75806a21cc2d0a9250f46c8ff);\n        \n    \n            var poly_line_b94b623f290d6f750b1d0932f4f76063 = L.polyline(\n                [[28.563197, -80.57682], [28.56327, -80.56789]],\n                {&quot;bubblingMouseEvents&quot;: true, &quot;color&quot;: &quot;#3388ff&quot;, &quot;dashArray&quot;: null, &quot;dashOffset&quot;: null, &quot;fill&quot;: false, &quot;fillColor&quot;: &quot;#3388ff&quot;, &quot;fillOpacity&quot;: 0.2, &quot;fillRule&quot;: &quot;evenodd&quot;, &quot;lineCap&quot;: &quot;round&quot;, &quot;lineJoin&quot;: &quot;round&quot;, &quot;noClip&quot;: false, &quot;opacity&quot;: 1.0, &quot;smoothFactor&quot;: 1.0, &quot;stroke&quot;: true, &quot;weight&quot;: 1}\n            ).addTo(map_3eeacea75806a21cc2d0a9250f46c8ff);\n        \n    \n            tile_layer_2d9213896cedf01616b1ffc71a3fa557.addTo(map_3eeacea75806a21cc2d0a9250f46c8ff);\n        \n    \n            marker_cluster_4b85ecfc0d62af86f9851f39ae6f0715.addTo(map_3eeacea75806a21cc2d0a9250f46c8ff);\n        \n    \n            var marker_477838dc0e4a502078c61a3f8b775c7e = L.marker(\n                [28.56327, -80.56789],\n                {}\n            ).addTo(map_3eeacea75806a21cc2d0a9250f46c8ff);\n        \n    \n            var div_icon_7597676b8e31fe3026b504e04a2f36b0 = L.divIcon({&quot;className&quot;: &quot;empty&quot;, &quot;html&quot;: &quot;\\u003cdiv style=\\&quot;font-size: 12; color:#d35400;\\&quot;\\u003e\\u003cb\\u003e      0.87 KM\\u003c/b\\u003e\\u003c/div\\u003e&quot;, &quot;iconAnchor&quot;: [0, 0], &quot;iconSize&quot;: [20, 20]});\n            marker_477838dc0e4a502078c61a3f8b775c7e.setIcon(div_icon_7597676b8e31fe3026b504e04a2f36b0);\n        \n    \n            tile_layer_2d9213896cedf01616b1ffc71a3fa557.addTo(map_3eeacea75806a21cc2d0a9250f46c8ff);\n        \n    \n            marker_cluster_4b85ecfc0d62af86f9851f39ae6f0715.addTo(map_3eeacea75806a21cc2d0a9250f46c8ff);\n        \n    \n            var marker_798ac07b0490b90ad1fbd22004ecaed4 = L.marker(\n                [28.56321, -80.57076],\n                {}\n            ).addTo(map_3eeacea75806a21cc2d0a9250f46c8ff);\n        \n    \n            var div_icon_86c05f30176c96f841fd567a5b01319e = L.divIcon({&quot;className&quot;: &quot;empty&quot;, &quot;html&quot;: &quot;\\u003cdiv style=\\&quot;font-size: 12; color:#d35400;\\&quot;\\u003e\\u003cb\\u003e      0.59 KM\\u003c/b\\u003e\\u003c/div\\u003e&quot;, &quot;iconAnchor&quot;: [0, 0], &quot;iconSize&quot;: [20, 20]});\n            marker_798ac07b0490b90ad1fbd22004ecaed4.setIcon(div_icon_86c05f30176c96f841fd567a5b01319e);\n        \n    \n            tile_layer_2d9213896cedf01616b1ffc71a3fa557.addTo(map_3eeacea75806a21cc2d0a9250f46c8ff);\n        \n    \n            marker_cluster_4b85ecfc0d62af86f9851f39ae6f0715.addTo(map_3eeacea75806a21cc2d0a9250f46c8ff);\n        \n    \n            var poly_line_2822433dc8113f966aabd887492f9cdf = L.polyline(\n                [[28.563197, -80.57682], [28.56321, -80.57076]],\n                {&quot;bubblingMouseEvents&quot;: true, &quot;color&quot;: &quot;#3388ff&quot;, &quot;dashArray&quot;: null, &quot;dashOffset&quot;: null, &quot;fill&quot;: false, &quot;fillColor&quot;: &quot;#3388ff&quot;, &quot;fillOpacity&quot;: 0.2, &quot;fillRule&quot;: &quot;evenodd&quot;, &quot;lineCap&quot;: &quot;round&quot;, &quot;lineJoin&quot;: &quot;round&quot;, &quot;noClip&quot;: false, &quot;opacity&quot;: 1.0, &quot;smoothFactor&quot;: 1.0, &quot;stroke&quot;: true, &quot;weight&quot;: 1}\n            ).addTo(map_3eeacea75806a21cc2d0a9250f46c8ff);\n        \n&lt;/script&gt;\n&lt;/html&gt;\" style=\"position:absolute;width:100%;height:100%;left:0;top:0;border:none !important;\" allowfullscreen webkitallowfullscreen mozallowfullscreen></iframe></div></div>"
     },
     "metadata": {}
    }
   ],
   "execution_count": 44
  },
  {
   "cell_type": "code",
   "execution_count": null,
   "outputs": [],
   "source": [
    "# Create a `folium.PolyLine` object using the coastline coordinates and launch site coordinate\n",
    "lines=folium.PolyLine(locations=[[28.563197, -80.576820], coordinate], weight=1)\n",
    "site_map.add_child(lines)\n",
    "site_map"
   ],
   "metadata": {
    "collapsed": false,
    "pycharm": {
     "is_executing": true
    }
   }
  },
  {
   "cell_type": "markdown",
   "source": [
    "After you plot distance lines to the proximities, you can answer the following questions easily:\n",
    "\n",
    "*   Are launch sites in close proximity to railways?\n",
    "*   Are launch sites in close proximity to highways?\n",
    "*   Are launch sites in close proximity to coastline?\n",
    "*   Do launch sites keep certain distance away from cities?\n",
    "\n",
    "Also please try to explain your findings.\n"
   ],
   "metadata": {}
  },
  {
   "cell_type": "markdown",
   "source": [
    "# Next Steps:\n",
    "\n",
    "Now you have discovered many interesting insights related to the launch sites' location using folium, in a very interactive way. Next, you will need to build a dashboard using Ploty Dash on detailed launch records.\n"
   ],
   "metadata": {}
  },
  {
   "cell_type": "markdown",
   "source": [
    "## Authors\n"
   ],
   "metadata": {}
  },
  {
   "cell_type": "markdown",
   "source": [
    "[Pratiksha Verma](https://www.linkedin.com/in/pratiksha-verma-6487561b1/?utm_medium=Exinfluencer&utm_source=Exinfluencer&utm_content=000026UJ&utm_term=10006555&utm_id=NA-SkillsNetwork-Channel-SkillsNetworkCoursesIBMDS0321ENSkillsNetwork865-2022-01-01)\n"
   ],
   "metadata": {}
  },
  {
   "cell_type": "markdown",
   "source": [
    "## Change Log\n"
   ],
   "metadata": {}
  },
  {
   "cell_type": "markdown",
   "source": [
    "| Date (YYYY-MM-DD) | Version | Changed By      | Change Description      |\n",
    "| ----------------- | ------- | -------------   | ----------------------- |\n",
    "| 2022-11-09        | 1.0     | Pratiksha Verma | Converted initial version to Jupyterlite|\n"
   ],
   "metadata": {}
  },
  {
   "cell_type": "markdown",
   "source": [
    "### <h3 align=\"center\"> IBM Corporation 2022. All rights reserved. <h3/>\n"
   ],
   "metadata": {
    "collapsed": false
   }
  }
 ]
}
